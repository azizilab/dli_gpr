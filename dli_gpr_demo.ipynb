{
 "cells": [
  {
   "cell_type": "markdown",
   "metadata": {},
   "source": [
    "# GP regression with heteroscedasic noise\n",
    "## Pyro implementation demo notebook"
   ]
  },
  {
   "cell_type": "code",
   "execution_count": 65,
   "metadata": {},
   "outputs": [],
   "source": [
    "import torch\n",
    "import pyro\n",
    "import pandas as pd\n",
    "import numpy as np\n",
    "import matplotlib.pyplot as plt\n",
    "\n",
    "# import GP regression code\n",
    "from importlib import reload\n",
    "import dli_gpr\n",
    "\n",
    "%matplotlib inline"
   ]
  },
  {
   "cell_type": "markdown",
   "metadata": {},
   "source": [
    "## Loading input data"
   ]
  },
  {
   "cell_type": "code",
   "execution_count": 233,
   "metadata": {},
   "outputs": [
    {
     "data": {
      "text/html": [
       "<div>\n",
       "<style scoped>\n",
       "    .dataframe tbody tr th:only-of-type {\n",
       "        vertical-align: middle;\n",
       "    }\n",
       "\n",
       "    .dataframe tbody tr th {\n",
       "        vertical-align: top;\n",
       "    }\n",
       "\n",
       "    .dataframe thead th {\n",
       "        text-align: right;\n",
       "    }\n",
       "</style>\n",
       "<table border=\"1\" class=\"dataframe\">\n",
       "  <thead>\n",
       "    <tr style=\"text-align: right;\">\n",
       "      <th></th>\n",
       "      <th>time</th>\n",
       "      <th>proportion(y)</th>\n",
       "      <th>numcellsincluster(x)</th>\n",
       "      <th>totalcellsinsample(n)</th>\n",
       "      <th>patientID</th>\n",
       "      <th>sampleID</th>\n",
       "      <th>tumorburden</th>\n",
       "    </tr>\n",
       "  </thead>\n",
       "  <tbody>\n",
       "    <tr>\n",
       "      <th>0</th>\n",
       "      <td>-30</td>\n",
       "      <td>0.0000</td>\n",
       "      <td>1</td>\n",
       "      <td>329</td>\n",
       "      <td>DFCI-5310</td>\n",
       "      <td>1</td>\n",
       "      <td>94.0</td>\n",
       "    </tr>\n",
       "    <tr>\n",
       "      <th>1</th>\n",
       "      <td>180</td>\n",
       "      <td>0.0931</td>\n",
       "      <td>21</td>\n",
       "      <td>1310</td>\n",
       "      <td>DFCI-5310</td>\n",
       "      <td>2</td>\n",
       "      <td>0.0</td>\n",
       "    </tr>\n",
       "    <tr>\n",
       "      <th>2</th>\n",
       "      <td>-42</td>\n",
       "      <td>0.1725</td>\n",
       "      <td>127</td>\n",
       "      <td>2834</td>\n",
       "      <td>DFCI-5309</td>\n",
       "      <td>5</td>\n",
       "      <td>11.0</td>\n",
       "    </tr>\n",
       "    <tr>\n",
       "      <th>3</th>\n",
       "      <td>90</td>\n",
       "      <td>0.0808</td>\n",
       "      <td>88</td>\n",
       "      <td>2030</td>\n",
       "      <td>DFCI-5309</td>\n",
       "      <td>6</td>\n",
       "      <td>0.0</td>\n",
       "    </tr>\n",
       "    <tr>\n",
       "      <th>4</th>\n",
       "      <td>0</td>\n",
       "      <td>0.3389</td>\n",
       "      <td>7</td>\n",
       "      <td>3184</td>\n",
       "      <td>DFCI-5311</td>\n",
       "      <td>9</td>\n",
       "      <td>44.0</td>\n",
       "    </tr>\n",
       "    <tr>\n",
       "      <th>6</th>\n",
       "      <td>90</td>\n",
       "      <td>0.2036</td>\n",
       "      <td>32</td>\n",
       "      <td>3762</td>\n",
       "      <td>DFCI-5311</td>\n",
       "      <td>11</td>\n",
       "      <td>0.0</td>\n",
       "    </tr>\n",
       "    <tr>\n",
       "      <th>7</th>\n",
       "      <td>270</td>\n",
       "      <td>0.0487</td>\n",
       "      <td>24</td>\n",
       "      <td>8662</td>\n",
       "      <td>DFCI-5311</td>\n",
       "      <td>12</td>\n",
       "      <td>0.0</td>\n",
       "    </tr>\n",
       "    <tr>\n",
       "      <th>8</th>\n",
       "      <td>0</td>\n",
       "      <td>0.4367</td>\n",
       "      <td>116</td>\n",
       "      <td>1358</td>\n",
       "      <td>DFCI-5312</td>\n",
       "      <td>21</td>\n",
       "      <td>38.0</td>\n",
       "    </tr>\n",
       "    <tr>\n",
       "      <th>9</th>\n",
       "      <td>270</td>\n",
       "      <td>0.0000</td>\n",
       "      <td>1</td>\n",
       "      <td>13</td>\n",
       "      <td>DFCI-5312</td>\n",
       "      <td>22</td>\n",
       "      <td>0.0</td>\n",
       "    </tr>\n",
       "    <tr>\n",
       "      <th>10</th>\n",
       "      <td>-5</td>\n",
       "      <td>0.1644</td>\n",
       "      <td>10</td>\n",
       "      <td>1174</td>\n",
       "      <td>DFCI-5317</td>\n",
       "      <td>23</td>\n",
       "      <td>80.0</td>\n",
       "    </tr>\n",
       "    <tr>\n",
       "      <th>11</th>\n",
       "      <td>345</td>\n",
       "      <td>0.0228</td>\n",
       "      <td>5</td>\n",
       "      <td>4390</td>\n",
       "      <td>DFCI-5317</td>\n",
       "      <td>24</td>\n",
       "      <td>0.0</td>\n",
       "    </tr>\n",
       "    <tr>\n",
       "      <th>12</th>\n",
       "      <td>-30</td>\n",
       "      <td>0.2759</td>\n",
       "      <td>5</td>\n",
       "      <td>1566</td>\n",
       "      <td>DFCI-5314</td>\n",
       "      <td>25</td>\n",
       "      <td>94.0</td>\n",
       "    </tr>\n",
       "    <tr>\n",
       "      <th>13</th>\n",
       "      <td>1095</td>\n",
       "      <td>0.1840</td>\n",
       "      <td>38</td>\n",
       "      <td>1853</td>\n",
       "      <td>DFCI-5314</td>\n",
       "      <td>26</td>\n",
       "      <td>0.0</td>\n",
       "    </tr>\n",
       "    <tr>\n",
       "      <th>14</th>\n",
       "      <td>-416</td>\n",
       "      <td>0.4462</td>\n",
       "      <td>4</td>\n",
       "      <td>995</td>\n",
       "      <td>DFCI-5311</td>\n",
       "      <td>29</td>\n",
       "      <td>0.0</td>\n",
       "    </tr>\n",
       "    <tr>\n",
       "      <th>15</th>\n",
       "      <td>-90</td>\n",
       "      <td>0.6127</td>\n",
       "      <td>52</td>\n",
       "      <td>1544</td>\n",
       "      <td>DFCI-5311</td>\n",
       "      <td>30</td>\n",
       "      <td>16.0</td>\n",
       "    </tr>\n",
       "    <tr>\n",
       "      <th>16</th>\n",
       "      <td>-152</td>\n",
       "      <td>0.3670</td>\n",
       "      <td>65</td>\n",
       "      <td>1447</td>\n",
       "      <td>DFCI-5314</td>\n",
       "      <td>31</td>\n",
       "      <td>78.0</td>\n",
       "    </tr>\n",
       "    <tr>\n",
       "      <th>17</th>\n",
       "      <td>29</td>\n",
       "      <td>0.2993</td>\n",
       "      <td>4</td>\n",
       "      <td>1216</td>\n",
       "      <td>DFCI-5314</td>\n",
       "      <td>32</td>\n",
       "      <td>98.0</td>\n",
       "    </tr>\n",
       "    <tr>\n",
       "      <th>18</th>\n",
       "      <td>-416</td>\n",
       "      <td>0.0164</td>\n",
       "      <td>4</td>\n",
       "      <td>731</td>\n",
       "      <td>DFCI-5317</td>\n",
       "      <td>38</td>\n",
       "      <td>0.0</td>\n",
       "    </tr>\n",
       "    <tr>\n",
       "      <th>19</th>\n",
       "      <td>-50</td>\n",
       "      <td>0.1313</td>\n",
       "      <td>4</td>\n",
       "      <td>1051</td>\n",
       "      <td>DFCI-5317</td>\n",
       "      <td>39</td>\n",
       "      <td>80.0</td>\n",
       "    </tr>\n",
       "    <tr>\n",
       "      <th>20</th>\n",
       "      <td>-416</td>\n",
       "      <td>0.0427</td>\n",
       "      <td>68</td>\n",
       "      <td>1430</td>\n",
       "      <td>DFCI-5309</td>\n",
       "      <td>40</td>\n",
       "      <td>0.0</td>\n",
       "    </tr>\n",
       "  </tbody>\n",
       "</table>\n",
       "</div>"
      ],
      "text/plain": [
       "    time  proportion(y)  numcellsincluster(x)  totalcellsinsample(n)  \\\n",
       "0    -30         0.0000                     1                    329   \n",
       "1    180         0.0931                    21                   1310   \n",
       "2    -42         0.1725                   127                   2834   \n",
       "3     90         0.0808                    88                   2030   \n",
       "4      0         0.3389                     7                   3184   \n",
       "6     90         0.2036                    32                   3762   \n",
       "7    270         0.0487                    24                   8662   \n",
       "8      0         0.4367                   116                   1358   \n",
       "9    270         0.0000                     1                     13   \n",
       "10    -5         0.1644                    10                   1174   \n",
       "11   345         0.0228                     5                   4390   \n",
       "12   -30         0.2759                     5                   1566   \n",
       "13  1095         0.1840                    38                   1853   \n",
       "14  -416         0.4462                     4                    995   \n",
       "15   -90         0.6127                    52                   1544   \n",
       "16  -152         0.3670                    65                   1447   \n",
       "17    29         0.2993                     4                   1216   \n",
       "18  -416         0.0164                     4                    731   \n",
       "19   -50         0.1313                     4                   1051   \n",
       "20  -416         0.0427                    68                   1430   \n",
       "\n",
       "    patientID  sampleID  tumorburden  \n",
       "0   DFCI-5310         1         94.0  \n",
       "1   DFCI-5310         2          0.0  \n",
       "2   DFCI-5309         5         11.0  \n",
       "3   DFCI-5309         6          0.0  \n",
       "4   DFCI-5311         9         44.0  \n",
       "6   DFCI-5311        11          0.0  \n",
       "7   DFCI-5311        12          0.0  \n",
       "8   DFCI-5312        21         38.0  \n",
       "9   DFCI-5312        22          0.0  \n",
       "10  DFCI-5317        23         80.0  \n",
       "11  DFCI-5317        24          0.0  \n",
       "12  DFCI-5314        25         94.0  \n",
       "13  DFCI-5314        26          0.0  \n",
       "14  DFCI-5311        29          0.0  \n",
       "15  DFCI-5311        30         16.0  \n",
       "16  DFCI-5314        31         78.0  \n",
       "17  DFCI-5314        32         98.0  \n",
       "18  DFCI-5317        38          0.0  \n",
       "19  DFCI-5317        39         80.0  \n",
       "20  DFCI-5309        40          0.0  "
      ]
     },
     "execution_count": 233,
     "metadata": {},
     "output_type": "execute_result"
    }
   ],
   "source": [
    "import os\n",
    "\n",
    "# read input data\n",
    "test_fname_r = os.path.join(\"data\", \"v3_MetaclusterTE_R_gprinput.txt\")\n",
    "test_fname_nr = os.path.join(\"data\", \"v3_MetaclusterTE_NR_gprinput.txt\")\n",
    "test_df_r = pd.read_csv(test_fname_r, sep=\"\\t\", header=0)\n",
    "test_df_nr = pd.read_csv(test_fname_nr, sep=\"\\t\", header=0)\n",
    "\n",
    "# get rid of rows with NaN\n",
    "test_df_r.dropna(inplace=True)\n",
    "\n",
    "# get rid of rows with NaN\n",
    "test_df_nr.dropna(inplace=True)\n",
    "\n",
    "test_df_r"
   ]
  },
  {
   "cell_type": "code",
   "execution_count": 234,
   "metadata": {},
   "outputs": [
    {
     "data": {
      "text/html": [
       "<div>\n",
       "<style scoped>\n",
       "    .dataframe tbody tr th:only-of-type {\n",
       "        vertical-align: middle;\n",
       "    }\n",
       "\n",
       "    .dataframe tbody tr th {\n",
       "        vertical-align: top;\n",
       "    }\n",
       "\n",
       "    .dataframe thead th {\n",
       "        text-align: right;\n",
       "    }\n",
       "</style>\n",
       "<table border=\"1\" class=\"dataframe\">\n",
       "  <thead>\n",
       "    <tr style=\"text-align: right;\">\n",
       "      <th></th>\n",
       "      <th>time</th>\n",
       "      <th>proportion(y)</th>\n",
       "      <th>numcellsincluster(x)</th>\n",
       "      <th>totalcellsinsample(n)</th>\n",
       "      <th>patientID</th>\n",
       "      <th>sampleID</th>\n",
       "      <th>tumorburden</th>\n",
       "    </tr>\n",
       "  </thead>\n",
       "  <tbody>\n",
       "    <tr>\n",
       "      <th>0</th>\n",
       "      <td>-30</td>\n",
       "      <td>0.0506</td>\n",
       "      <td>1</td>\n",
       "      <td>791</td>\n",
       "      <td>DFCI-5322</td>\n",
       "      <td>3</td>\n",
       "      <td>100.0</td>\n",
       "    </tr>\n",
       "    <tr>\n",
       "      <th>1</th>\n",
       "      <td>165</td>\n",
       "      <td>0.0935</td>\n",
       "      <td>15</td>\n",
       "      <td>759</td>\n",
       "      <td>DFCI-5322</td>\n",
       "      <td>4</td>\n",
       "      <td>100.0</td>\n",
       "    </tr>\n",
       "    <tr>\n",
       "      <th>2</th>\n",
       "      <td>0</td>\n",
       "      <td>0.1418</td>\n",
       "      <td>241</td>\n",
       "      <td>1692</td>\n",
       "      <td>DFCI-5324</td>\n",
       "      <td>7</td>\n",
       "      <td>93.0</td>\n",
       "    </tr>\n",
       "    <tr>\n",
       "      <th>4</th>\n",
       "      <td>-14</td>\n",
       "      <td>0.0771</td>\n",
       "      <td>1</td>\n",
       "      <td>1804</td>\n",
       "      <td>DFCI-5325</td>\n",
       "      <td>17</td>\n",
       "      <td>100.0</td>\n",
       "    </tr>\n",
       "    <tr>\n",
       "      <th>5</th>\n",
       "      <td>730</td>\n",
       "      <td>0.1688</td>\n",
       "      <td>736</td>\n",
       "      <td>3756</td>\n",
       "      <td>DFCI-5325</td>\n",
       "      <td>18</td>\n",
       "      <td>100.0</td>\n",
       "    </tr>\n",
       "    <tr>\n",
       "      <th>6</th>\n",
       "      <td>-4</td>\n",
       "      <td>0.1195</td>\n",
       "      <td>39</td>\n",
       "      <td>1515</td>\n",
       "      <td>DFCI-5326</td>\n",
       "      <td>19</td>\n",
       "      <td>100.0</td>\n",
       "    </tr>\n",
       "    <tr>\n",
       "      <th>7</th>\n",
       "      <td>120</td>\n",
       "      <td>0.0466</td>\n",
       "      <td>36</td>\n",
       "      <td>5409</td>\n",
       "      <td>DFCI-5326</td>\n",
       "      <td>20</td>\n",
       "      <td>100.0</td>\n",
       "    </tr>\n",
       "    <tr>\n",
       "      <th>8</th>\n",
       "      <td>0</td>\n",
       "      <td>0.3891</td>\n",
       "      <td>49</td>\n",
       "      <td>1627</td>\n",
       "      <td>DFCI-5318</td>\n",
       "      <td>27</td>\n",
       "      <td>100.0</td>\n",
       "    </tr>\n",
       "    <tr>\n",
       "      <th>9</th>\n",
       "      <td>182</td>\n",
       "      <td>0.3800</td>\n",
       "      <td>4</td>\n",
       "      <td>771</td>\n",
       "      <td>DFCI-5318</td>\n",
       "      <td>28</td>\n",
       "      <td>100.0</td>\n",
       "    </tr>\n",
       "    <tr>\n",
       "      <th>10</th>\n",
       "      <td>-543</td>\n",
       "      <td>0.3027</td>\n",
       "      <td>3</td>\n",
       "      <td>2709</td>\n",
       "      <td>DFCI-5322</td>\n",
       "      <td>33</td>\n",
       "      <td>0.0</td>\n",
       "    </tr>\n",
       "    <tr>\n",
       "      <th>11</th>\n",
       "      <td>-540</td>\n",
       "      <td>0.1500</td>\n",
       "      <td>30</td>\n",
       "      <td>3599</td>\n",
       "      <td>DFCI-5322</td>\n",
       "      <td>34</td>\n",
       "      <td>34.0</td>\n",
       "    </tr>\n",
       "    <tr>\n",
       "      <th>12</th>\n",
       "      <td>-428</td>\n",
       "      <td>0.3142</td>\n",
       "      <td>48</td>\n",
       "      <td>1200</td>\n",
       "      <td>DFCI-5322</td>\n",
       "      <td>35</td>\n",
       "      <td>97.0</td>\n",
       "    </tr>\n",
       "    <tr>\n",
       "      <th>13</th>\n",
       "      <td>-274</td>\n",
       "      <td>0.7735</td>\n",
       "      <td>87</td>\n",
       "      <td>2945</td>\n",
       "      <td>DFCI-5324</td>\n",
       "      <td>36</td>\n",
       "      <td>3.0</td>\n",
       "    </tr>\n",
       "    <tr>\n",
       "      <th>14</th>\n",
       "      <td>285</td>\n",
       "      <td>0.0216</td>\n",
       "      <td>1</td>\n",
       "      <td>878</td>\n",
       "      <td>DFCI-5318</td>\n",
       "      <td>41</td>\n",
       "      <td>100.0</td>\n",
       "    </tr>\n",
       "    <tr>\n",
       "      <th>15</th>\n",
       "      <td>-543</td>\n",
       "      <td>0.0094</td>\n",
       "      <td>12</td>\n",
       "      <td>1493</td>\n",
       "      <td>DFCI-5321</td>\n",
       "      <td>42</td>\n",
       "      <td>0.0</td>\n",
       "    </tr>\n",
       "    <tr>\n",
       "      <th>16</th>\n",
       "      <td>0</td>\n",
       "      <td>0.1209</td>\n",
       "      <td>1</td>\n",
       "      <td>430</td>\n",
       "      <td>DFCI-5321</td>\n",
       "      <td>43</td>\n",
       "      <td>100.0</td>\n",
       "    </tr>\n",
       "  </tbody>\n",
       "</table>\n",
       "</div>"
      ],
      "text/plain": [
       "    time  proportion(y)  numcellsincluster(x)  totalcellsinsample(n)  \\\n",
       "0    -30         0.0506                     1                    791   \n",
       "1    165         0.0935                    15                    759   \n",
       "2      0         0.1418                   241                   1692   \n",
       "4    -14         0.0771                     1                   1804   \n",
       "5    730         0.1688                   736                   3756   \n",
       "6     -4         0.1195                    39                   1515   \n",
       "7    120         0.0466                    36                   5409   \n",
       "8      0         0.3891                    49                   1627   \n",
       "9    182         0.3800                     4                    771   \n",
       "10  -543         0.3027                     3                   2709   \n",
       "11  -540         0.1500                    30                   3599   \n",
       "12  -428         0.3142                    48                   1200   \n",
       "13  -274         0.7735                    87                   2945   \n",
       "14   285         0.0216                     1                    878   \n",
       "15  -543         0.0094                    12                   1493   \n",
       "16     0         0.1209                     1                    430   \n",
       "\n",
       "    patientID  sampleID  tumorburden  \n",
       "0   DFCI-5322         3        100.0  \n",
       "1   DFCI-5322         4        100.0  \n",
       "2   DFCI-5324         7         93.0  \n",
       "4   DFCI-5325        17        100.0  \n",
       "5   DFCI-5325        18        100.0  \n",
       "6   DFCI-5326        19        100.0  \n",
       "7   DFCI-5326        20        100.0  \n",
       "8   DFCI-5318        27        100.0  \n",
       "9   DFCI-5318        28        100.0  \n",
       "10  DFCI-5322        33          0.0  \n",
       "11  DFCI-5322        34         34.0  \n",
       "12  DFCI-5322        35         97.0  \n",
       "13  DFCI-5324        36          3.0  \n",
       "14  DFCI-5318        41        100.0  \n",
       "15  DFCI-5321        42          0.0  \n",
       "16  DFCI-5321        43        100.0  "
      ]
     },
     "execution_count": 234,
     "metadata": {},
     "output_type": "execute_result"
    }
   ],
   "source": [
    "test_df_nr"
   ]
  },
  {
   "cell_type": "markdown",
   "metadata": {},
   "source": [
    "## Show some descriptive statistics"
   ]
  },
  {
   "cell_type": "code",
   "execution_count": 241,
   "metadata": {},
   "outputs": [
    {
     "name": "stdout",
     "output_type": "stream",
     "text": [
      "Mean tumor burden, responders:  31.65\n",
      "Mean tumor burden, non-responders:  76.6875\n",
      "Variance of tumor burden, responders:  1494.1274999999998\n",
      "Variance of tumor burden, non-responders:  1570.46484375\n",
      "Overall variance:  2028.8888888888885\n",
      "Standard error:  56.35802469135801\n"
     ]
    }
   ],
   "source": [
    "tb_r = test_df_r[\"tumorburden\"].values\n",
    "tb_nr = test_df_nr[\"tumorburden\"].values\n",
    "\n",
    "print(\"Mean tumor burden, responders: \", np.mean(tb_r))\n",
    "print(\"Mean tumor burden, non-responders: \", np.mean(tb_nr))\n",
    "\n",
    "print(\"Variance of tumor burden, responders: \", np.var(tb_r))\n",
    "print(\"Variance of tumor burden, non-responders: \", np.var(tb_nr))\n",
    "\n",
    "print(\"Overall variance: \", np.var(np.concatenate([tb_r, tb_nr])))\n",
    "print(\"Standard error: \", np.var(np.concatenate([tb_r, tb_nr]))/(len(tb_r) + len(tb_nr)))"
   ]
  },
  {
   "cell_type": "code",
   "execution_count": 243,
   "metadata": {},
   "outputs": [
    {
     "name": "stdout",
     "output_type": "stream",
     "text": [
      "3828.891966759003\n"
     ]
    }
   ],
   "source": [
    "diffs = tb_r[1:] - tb_r[:-1]\n",
    "print(np.var(diffs))"
   ]
  },
  {
   "cell_type": "code",
   "execution_count": 248,
   "metadata": {},
   "outputs": [
    {
     "data": {
      "text/plain": [
       "78.63828947368421"
      ]
     },
     "execution_count": 248,
     "metadata": {},
     "output_type": "execute_result"
    }
   ],
   "source": [
    "np.var(tb_r[np.argsort(test_df_r[\"time\"].values)])/len(diffs)"
   ]
  },
  {
   "cell_type": "markdown",
   "metadata": {},
   "source": [
    "## Preparing model input\n",
    "\n",
    "Below we prepare two models: one to describe tumor burden and one to describe the proportion of cells found in that metacluster."
   ]
  },
  {
   "cell_type": "code",
   "execution_count": 358,
   "metadata": {},
   "outputs": [],
   "source": [
    "# prepare torch tensor for time points\n",
    "y = torch.FloatTensor(test_df_r.time.values)\n",
    "\n",
    "# reponse variables (one for metclusters, one for tumor burden)\n",
    "metacluster = torch.FloatTensor(test_df_r[\"proportion(y)\"].values)\n",
    "tumorburden = torch.FloatTensor(tb_r / 100.)\n",
    "\n",
    "# number of cells size in each time point\n",
    "cluster_sizes = torch.FloatTensor(test_df_r[\"totalcellsinsample(n)\"].values)"
   ]
  },
  {
   "cell_type": "markdown",
   "metadata": {},
   "source": [
    "## Model initialization and optimization"
   ]
  },
  {
   "cell_type": "code",
   "execution_count": 373,
   "metadata": {},
   "outputs": [
    {
     "name": "stdout",
     "output_type": "stream",
     "text": [
      "Variances\n",
      "Tumor burden:  0.007863828912377357\n",
      "Metacluster:  0.0015130525252896516\n"
     ]
    }
   ],
   "source": [
    "reload(dli_gpr)\n",
    "\n",
    "# tumor burden model\n",
    "tumor_model = dli_gpr.gpr(y, tumorburden)\n",
    "\n",
    "# metacluster model\n",
    "metacluster_model = dli_gpr.dli_gpr(y, metacluster, cluster_sizes)\n",
    "\n",
    "# initialize kernel and center the response variable\n",
    "tumor_model.initialize_variables()\n",
    "metacluster_model.initialize_variables()\n",
    "\n",
    "print(\"Variances\")\n",
    "print(\"Tumor burden: \", tumor_model.sigma.item())\n",
    "print(\"Metacluster: \", 1./metacluster_model.gam.item())"
   ]
  },
  {
   "cell_type": "markdown",
   "metadata": {},
   "source": [
    "### Optimize each model\n",
    "We will run 2000 iterations of SVI for each model."
   ]
  },
  {
   "cell_type": "code",
   "execution_count": 376,
   "metadata": {},
   "outputs": [
    {
     "name": "stderr",
     "output_type": "stream",
     "text": [
      "100%|██████████| 5000/5000 [00:05<00:00, 998.12it/s] \n",
      "100%|██████████| 2000/2000 [00:03<00:00, 543.23it/s]\n"
     ]
    }
   ],
   "source": [
    "pyro.clear_param_store()\n",
    "losses1 = tumor_model.optimize(n_steps=5000)\n",
    "\n",
    "pyro.clear_param_store()\n",
    "losses2 = metacluster_model.optimize(n_steps=2000)"
   ]
  },
  {
   "cell_type": "code",
   "execution_count": 368,
   "metadata": {},
   "outputs": [
    {
     "data": {
      "text/plain": [
       "[<matplotlib.lines.Line2D at 0x13428ad90>]"
      ]
     },
     "execution_count": 368,
     "metadata": {},
     "output_type": "execute_result"
    },
    {
     "data": {
      "image/png": "[encoded data removed]",
      "text/plain": [
       "<Figure size 432x288 with 1 Axes>"
      ]
     },
     "metadata": {
      "needs_background": "light"
     },
     "output_type": "display_data"
    }
   ],
   "source": [
    "plt.plot(losses1)"
   ]
  },
  {
   "cell_type": "code",
   "execution_count": 367,
   "metadata": {},
   "outputs": [
    {
     "name": "stdout",
     "output_type": "stream",
     "text": [
      "tensor(0.0947)\n",
      "tensor(0.0035)\n"
     ]
    }
   ],
   "source": [
    "print(tumor_model.sigma)\n",
    "print(1./metacluster_model.gam)"
   ]
  },
  {
   "cell_type": "markdown",
   "metadata": {},
   "source": [
    "## Results visualization\n",
    "We compute the conditional distribution of each response variable at a number of new input points to model what our data should have looked like at intermediate points."
   ]
  },
  {
   "cell_type": "code",
   "execution_count": 378,
   "metadata": {},
   "outputs": [],
   "source": [
    "# new input time points\n",
    "new_y = torch.FloatTensor(np.linspace(-600, 1200, 100))\n",
    "\n",
    "# compute conditional distribution of response variable\n",
    "new_tumor, cov_tumor = tumor_model.conditional_distribution(new_y)\n",
    "new_metacluster, cov_metacluster = metacluster_model.conditional_distribution(new_y)"
   ]
  },
  {
   "cell_type": "code",
   "execution_count": 379,
   "metadata": {},
   "outputs": [
    {
     "data": {
      "text/plain": [
       "Text(0.5, 1.0, 'Metacluster proportion')"
      ]
     },
     "execution_count": 379,
     "metadata": {},
     "output_type": "execute_result"
    },
    {
     "data": {
      "image/png": "[encoded data removed]",
      "text/plain": [
       "<Figure size 504x216 with 2 Axes>"
      ]
     },
     "metadata": {
      "needs_background": "light"
     },
     "output_type": "display_data"
    }
   ],
   "source": [
    "# make a plot\n",
    "sizes = cluster_sizes.numpy()/70\n",
    "\n",
    "# time points as numpy array\n",
    "new_times = new_y.numpy()\n",
    "\n",
    "# means\n",
    "tumor_mean = new_tumor.numpy()\n",
    "metacluster_mean = new_metacluster.numpy()\n",
    "\n",
    "# plus or minus standard deviation\n",
    "tumor_std = torch.diag(cov_tumor).numpy()#**0.5\n",
    "metacluster_std = torch.diag(cov_metacluster).numpy()#**0.5\n",
    "\n",
    "# make plots\n",
    "fig, ax = plt.subplots(1,2, figsize=(7,3), tight_layout=True)\n",
    "\n",
    "# plot tumor\n",
    "ax[0].plot(new_times, tumor_mean, \"b-\")\n",
    "ax[0].scatter(y.numpy(), tumorburden.numpy(), s=sizes, c=\"b\")\n",
    "ax[0].scatter(new_times, tumor_mean + tumor_std, c=\"g\", s=0.3)\n",
    "ax[0].scatter(new_times, tumor_mean - tumor_std, c=\"g\", s=0.3)\n",
    "ax[0].set_title(\"Tumor burden\")\n",
    "\n",
    "# plot tumor\n",
    "ax[1].plot(new_times, metacluster_mean, \"b-\")\n",
    "ax[1].scatter(y.numpy(), metacluster.numpy(), s=sizes, c=\"b\")\n",
    "ax[1].scatter(new_times, metacluster_mean + metacluster_std, c=\"g\", s=0.3)\n",
    "ax[1].scatter(new_times, metacluster_mean - metacluster_std, c=\"g\", s=0.3)\n",
    "ax[1].set_title(\"Metacluster proportion\")"
   ]
  },
  {
   "cell_type": "code",
   "execution_count": 318,
   "metadata": {},
   "outputs": [
    {
     "data": {
      "text/plain": [
       "tensor(285.)"
      ]
     },
     "execution_count": 318,
     "metadata": {},
     "output_type": "execute_result"
    }
   ],
   "source": [
    "tumor_model.lamb"
   ]
  },
  {
   "cell_type": "code",
   "execution_count": null,
   "metadata": {},
   "outputs": [],
   "source": []
  }
 ],
 "metadata": {
  "kernelspec": {
   "display_name": "Python 3",
   "language": "python",
   "name": "python3"
  },
  "language_info": {
   "codemirror_mode": {
    "name": "ipython",
    "version": 3
   },
   "file_extension": ".py",
   "mimetype": "text/x-python",
   "name": "python",
   "nbconvert_exporter": "python",
   "pygments_lexer": "ipython3",
   "version": "3.7.4"
  },
  "toc": {
   "base_numbering": 1,
   "nav_menu": {},
   "number_sections": true,
   "sideBar": true,
   "skip_h1_title": false,
   "title_cell": "Table of Contents",
   "title_sidebar": "Contents",
   "toc_cell": false,
   "toc_position": {},
   "toc_section_display": true,
   "toc_window_display": false
  }
 },
 "nbformat": 4,
 "nbformat_minor": 2
}
