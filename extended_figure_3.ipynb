{
 "cells": [
  {
   "cell_type": "markdown",
   "metadata": {},
   "source": [
    "# Extended data figure 3\n",
    "This notebook reproduces the GP regression plots provided in from extended data figure 3g."
   ]
  },
  {
   "cell_type": "code",
   "execution_count": 1,
   "metadata": {},
   "outputs": [],
   "source": [
    "import torch\n",
    "import pyro\n",
    "import pandas as pd\n",
    "import numpy as np\n",
    "import matplotlib.pyplot as plt\n",
    "import os\n",
    "\n",
    "# import GP regression code\n",
    "from importlib import reload\n",
    "import dli_gpr\n",
    "\n",
    "%matplotlib inline"
   ]
  },
  {
   "cell_type": "markdown",
   "metadata": {},
   "source": [
    "# Input data\n",
    "Read input text files (provided in data directory of this repository)."
   ]
  },
  {
   "cell_type": "code",
   "execution_count": 2,
   "metadata": {},
   "outputs": [],
   "source": [
    "data_dir = \"data\"\n",
    "\n",
    "# data files (this figure only shows TE metacluster in responders.)\n",
    "te_r_fname = os.path.join(data_dir, \"v3_MetaclusterTE_R_gprinput.txt\")\n",
    "\n",
    "# read these with pandas (tsv)\n",
    "te_r_df = pd.read_csv(te_r_fname, sep=\"\\t\")\n",
    "\n",
    "# drop NaNs\n",
    "te_r_df.dropna(inplace=True)"
   ]
  },
  {
   "cell_type": "code",
   "execution_count": 3,
   "metadata": {},
   "outputs": [
    {
     "data": {
      "text/html": [
       "<div>\n",
       "<style scoped>\n",
       "    .dataframe tbody tr th:only-of-type {\n",
       "        vertical-align: middle;\n",
       "    }\n",
       "\n",
       "    .dataframe tbody tr th {\n",
       "        vertical-align: top;\n",
       "    }\n",
       "\n",
       "    .dataframe thead th {\n",
       "        text-align: right;\n",
       "    }\n",
       "</style>\n",
       "<table border=\"1\" class=\"dataframe\">\n",
       "  <thead>\n",
       "    <tr style=\"text-align: right;\">\n",
       "      <th></th>\n",
       "      <th>time</th>\n",
       "      <th>proportion(y)</th>\n",
       "      <th>numcellsincluster(x)</th>\n",
       "      <th>totalcellsinsample(n)</th>\n",
       "      <th>patientID</th>\n",
       "      <th>sampleID</th>\n",
       "      <th>tumorburden</th>\n",
       "    </tr>\n",
       "  </thead>\n",
       "  <tbody>\n",
       "    <tr>\n",
       "      <th>0</th>\n",
       "      <td>-30</td>\n",
       "      <td>0.0000</td>\n",
       "      <td>1</td>\n",
       "      <td>329</td>\n",
       "      <td>DFCI-5310</td>\n",
       "      <td>1</td>\n",
       "      <td>94.0</td>\n",
       "    </tr>\n",
       "    <tr>\n",
       "      <th>1</th>\n",
       "      <td>180</td>\n",
       "      <td>0.0931</td>\n",
       "      <td>21</td>\n",
       "      <td>1310</td>\n",
       "      <td>DFCI-5310</td>\n",
       "      <td>2</td>\n",
       "      <td>0.0</td>\n",
       "    </tr>\n",
       "    <tr>\n",
       "      <th>2</th>\n",
       "      <td>-42</td>\n",
       "      <td>0.1725</td>\n",
       "      <td>127</td>\n",
       "      <td>2834</td>\n",
       "      <td>DFCI-5309</td>\n",
       "      <td>5</td>\n",
       "      <td>11.0</td>\n",
       "    </tr>\n",
       "    <tr>\n",
       "      <th>3</th>\n",
       "      <td>90</td>\n",
       "      <td>0.0808</td>\n",
       "      <td>88</td>\n",
       "      <td>2030</td>\n",
       "      <td>DFCI-5309</td>\n",
       "      <td>6</td>\n",
       "      <td>0.0</td>\n",
       "    </tr>\n",
       "    <tr>\n",
       "      <th>4</th>\n",
       "      <td>0</td>\n",
       "      <td>0.3389</td>\n",
       "      <td>7</td>\n",
       "      <td>3184</td>\n",
       "      <td>DFCI-5311</td>\n",
       "      <td>9</td>\n",
       "      <td>44.0</td>\n",
       "    </tr>\n",
       "    <tr>\n",
       "      <th>6</th>\n",
       "      <td>90</td>\n",
       "      <td>0.2036</td>\n",
       "      <td>32</td>\n",
       "      <td>3762</td>\n",
       "      <td>DFCI-5311</td>\n",
       "      <td>11</td>\n",
       "      <td>0.0</td>\n",
       "    </tr>\n",
       "    <tr>\n",
       "      <th>7</th>\n",
       "      <td>270</td>\n",
       "      <td>0.0487</td>\n",
       "      <td>24</td>\n",
       "      <td>8662</td>\n",
       "      <td>DFCI-5311</td>\n",
       "      <td>12</td>\n",
       "      <td>0.0</td>\n",
       "    </tr>\n",
       "    <tr>\n",
       "      <th>8</th>\n",
       "      <td>0</td>\n",
       "      <td>0.4367</td>\n",
       "      <td>116</td>\n",
       "      <td>1358</td>\n",
       "      <td>DFCI-5312</td>\n",
       "      <td>21</td>\n",
       "      <td>38.0</td>\n",
       "    </tr>\n",
       "    <tr>\n",
       "      <th>9</th>\n",
       "      <td>270</td>\n",
       "      <td>0.0000</td>\n",
       "      <td>1</td>\n",
       "      <td>13</td>\n",
       "      <td>DFCI-5312</td>\n",
       "      <td>22</td>\n",
       "      <td>0.0</td>\n",
       "    </tr>\n",
       "    <tr>\n",
       "      <th>10</th>\n",
       "      <td>-5</td>\n",
       "      <td>0.1644</td>\n",
       "      <td>10</td>\n",
       "      <td>1174</td>\n",
       "      <td>DFCI-5317</td>\n",
       "      <td>23</td>\n",
       "      <td>80.0</td>\n",
       "    </tr>\n",
       "    <tr>\n",
       "      <th>11</th>\n",
       "      <td>345</td>\n",
       "      <td>0.0228</td>\n",
       "      <td>5</td>\n",
       "      <td>4390</td>\n",
       "      <td>DFCI-5317</td>\n",
       "      <td>24</td>\n",
       "      <td>0.0</td>\n",
       "    </tr>\n",
       "    <tr>\n",
       "      <th>12</th>\n",
       "      <td>-30</td>\n",
       "      <td>0.2759</td>\n",
       "      <td>5</td>\n",
       "      <td>1566</td>\n",
       "      <td>DFCI-5314</td>\n",
       "      <td>25</td>\n",
       "      <td>94.0</td>\n",
       "    </tr>\n",
       "    <tr>\n",
       "      <th>13</th>\n",
       "      <td>1095</td>\n",
       "      <td>0.1840</td>\n",
       "      <td>38</td>\n",
       "      <td>1853</td>\n",
       "      <td>DFCI-5314</td>\n",
       "      <td>26</td>\n",
       "      <td>0.0</td>\n",
       "    </tr>\n",
       "    <tr>\n",
       "      <th>14</th>\n",
       "      <td>-416</td>\n",
       "      <td>0.4462</td>\n",
       "      <td>4</td>\n",
       "      <td>995</td>\n",
       "      <td>DFCI-5311</td>\n",
       "      <td>29</td>\n",
       "      <td>0.0</td>\n",
       "    </tr>\n",
       "    <tr>\n",
       "      <th>15</th>\n",
       "      <td>-90</td>\n",
       "      <td>0.6127</td>\n",
       "      <td>52</td>\n",
       "      <td>1544</td>\n",
       "      <td>DFCI-5311</td>\n",
       "      <td>30</td>\n",
       "      <td>16.0</td>\n",
       "    </tr>\n",
       "    <tr>\n",
       "      <th>16</th>\n",
       "      <td>-152</td>\n",
       "      <td>0.3670</td>\n",
       "      <td>65</td>\n",
       "      <td>1447</td>\n",
       "      <td>DFCI-5314</td>\n",
       "      <td>31</td>\n",
       "      <td>78.0</td>\n",
       "    </tr>\n",
       "    <tr>\n",
       "      <th>17</th>\n",
       "      <td>29</td>\n",
       "      <td>0.2993</td>\n",
       "      <td>4</td>\n",
       "      <td>1216</td>\n",
       "      <td>DFCI-5314</td>\n",
       "      <td>32</td>\n",
       "      <td>98.0</td>\n",
       "    </tr>\n",
       "    <tr>\n",
       "      <th>18</th>\n",
       "      <td>-416</td>\n",
       "      <td>0.0164</td>\n",
       "      <td>4</td>\n",
       "      <td>731</td>\n",
       "      <td>DFCI-5317</td>\n",
       "      <td>38</td>\n",
       "      <td>0.0</td>\n",
       "    </tr>\n",
       "    <tr>\n",
       "      <th>19</th>\n",
       "      <td>-50</td>\n",
       "      <td>0.1313</td>\n",
       "      <td>4</td>\n",
       "      <td>1051</td>\n",
       "      <td>DFCI-5317</td>\n",
       "      <td>39</td>\n",
       "      <td>80.0</td>\n",
       "    </tr>\n",
       "    <tr>\n",
       "      <th>20</th>\n",
       "      <td>-416</td>\n",
       "      <td>0.0427</td>\n",
       "      <td>68</td>\n",
       "      <td>1430</td>\n",
       "      <td>DFCI-5309</td>\n",
       "      <td>40</td>\n",
       "      <td>0.0</td>\n",
       "    </tr>\n",
       "  </tbody>\n",
       "</table>\n",
       "</div>"
      ],
      "text/plain": [
       "    time  proportion(y)  numcellsincluster(x)  totalcellsinsample(n)  \\\n",
       "0    -30         0.0000                     1                    329   \n",
       "1    180         0.0931                    21                   1310   \n",
       "2    -42         0.1725                   127                   2834   \n",
       "3     90         0.0808                    88                   2030   \n",
       "4      0         0.3389                     7                   3184   \n",
       "6     90         0.2036                    32                   3762   \n",
       "7    270         0.0487                    24                   8662   \n",
       "8      0         0.4367                   116                   1358   \n",
       "9    270         0.0000                     1                     13   \n",
       "10    -5         0.1644                    10                   1174   \n",
       "11   345         0.0228                     5                   4390   \n",
       "12   -30         0.2759                     5                   1566   \n",
       "13  1095         0.1840                    38                   1853   \n",
       "14  -416         0.4462                     4                    995   \n",
       "15   -90         0.6127                    52                   1544   \n",
       "16  -152         0.3670                    65                   1447   \n",
       "17    29         0.2993                     4                   1216   \n",
       "18  -416         0.0164                     4                    731   \n",
       "19   -50         0.1313                     4                   1051   \n",
       "20  -416         0.0427                    68                   1430   \n",
       "\n",
       "    patientID  sampleID  tumorburden  \n",
       "0   DFCI-5310         1         94.0  \n",
       "1   DFCI-5310         2          0.0  \n",
       "2   DFCI-5309         5         11.0  \n",
       "3   DFCI-5309         6          0.0  \n",
       "4   DFCI-5311         9         44.0  \n",
       "6   DFCI-5311        11          0.0  \n",
       "7   DFCI-5311        12          0.0  \n",
       "8   DFCI-5312        21         38.0  \n",
       "9   DFCI-5312        22          0.0  \n",
       "10  DFCI-5317        23         80.0  \n",
       "11  DFCI-5317        24          0.0  \n",
       "12  DFCI-5314        25         94.0  \n",
       "13  DFCI-5314        26          0.0  \n",
       "14  DFCI-5311        29          0.0  \n",
       "15  DFCI-5311        30         16.0  \n",
       "16  DFCI-5314        31         78.0  \n",
       "17  DFCI-5314        32         98.0  \n",
       "18  DFCI-5317        38          0.0  \n",
       "19  DFCI-5317        39         80.0  \n",
       "20  DFCI-5309        40          0.0  "
      ]
     },
     "execution_count": 3,
     "metadata": {},
     "output_type": "execute_result"
    }
   ],
   "source": [
    "# check to make sure looks ok\n",
    "te_r_df"
   ]
  },
  {
   "cell_type": "markdown",
   "metadata": {},
   "source": [
    "# Prepare GPR input for tumor burden\n",
    "This is a regular GPR model. We use the same bandwidth for all models, use SE of the data to initialize the variance."
   ]
  },
  {
   "cell_type": "code",
   "execution_count": 6,
   "metadata": {},
   "outputs": [],
   "source": [
    "reload(dli_gpr)\n",
    "\n",
    "# get times\n",
    "time_r = te_r_df[\"time\"].values\n",
    "tb_r = te_r_df[\"tumorburden\"].values/100.\n",
    "\n",
    "# convert everything to torch tensors\n",
    "torch_time_r = torch.FloatTensor(time_r)\n",
    "torch_tb_r = torch.FloatTensor(tb_r)\n",
    "\n",
    "# initialize models\n",
    "tb_r_model = dli_gpr.gpr(torch_time_r, torch_tb_r)\n",
    "\n",
    "# have to initialize kernel\n",
    "tb_r_model.initialize_variables()"
   ]
  },
  {
   "cell_type": "code",
   "execution_count": 7,
   "metadata": {},
   "outputs": [
    {
     "name": "stderr",
     "output_type": "stream",
     "text": [
      "100%|██████████| 5000/5000 [00:05<00:00, 933.05it/s] \n"
     ]
    }
   ],
   "source": [
    "# optimize sigma by max likelihood\n",
    "pyro.clear_param_store()\n",
    "tb_r_losses = tb_r_model.optimize(n_steps=5000)"
   ]
  },
  {
   "cell_type": "code",
   "execution_count": 8,
   "metadata": {},
   "outputs": [
    {
     "data": {
      "text/plain": [
       "[<matplotlib.lines.Line2D at 0x11d9ffa50>]"
      ]
     },
     "execution_count": 8,
     "metadata": {},
     "output_type": "execute_result"
    },
    {
     "data": {
      "image/png": "[encoded data removed]",
      "text/plain": [
       "<Figure size 432x288 with 1 Axes>"
      ]
     },
     "metadata": {
      "needs_background": "light"
     },
     "output_type": "display_data"
    }
   ],
   "source": [
    "# make sure looks like it is actually converging\n",
    "plt.plot(tb_r_losses)"
   ]
  },
  {
   "cell_type": "code",
   "execution_count": 9,
   "metadata": {},
   "outputs": [],
   "source": [
    "# get predictions for new points...\n",
    "# new input time points\n",
    "new_y = torch.FloatTensor(np.linspace(-600, 1200, 100))\n",
    "\n",
    "# compute conditional distribution of response variable\n",
    "tb_r_mean, tb_r_cov = tb_r_model.conditional_distribution(new_y)"
   ]
  },
  {
   "cell_type": "code",
   "execution_count": 10,
   "metadata": {},
   "outputs": [],
   "source": [
    "# prepare values for plotting\n",
    "\n",
    "# time points as numpy array\n",
    "new_times = new_y.numpy()\n",
    "\n",
    "# means\n",
    "tb_r_mean = tb_r_mean.numpy()\n",
    "\n",
    "# variance\n",
    "tb_r_var = torch.diag(tb_r_cov).numpy()"
   ]
  },
  {
   "cell_type": "code",
   "execution_count": 12,
   "metadata": {},
   "outputs": [
    {
     "data": {
      "text/plain": [
       "Text(0.5, 1.0, 'Tumor burden (Responders)')"
      ]
     },
     "execution_count": 12,
     "metadata": {},
     "output_type": "execute_result"
    },
    {
     "data": {
      "image/png": "[encoded data removed]",
      "text/plain": [
       "<Figure size 360x216 with 1 Axes>"
      ]
     },
     "metadata": {
      "needs_background": "light"
     },
     "output_type": "display_data"
    }
   ],
   "source": [
    "# make plots\n",
    "fig, ax = plt.subplots(1,1, figsize=(5,3), tight_layout=True)\n",
    "\n",
    "# plot tumor burden for R\n",
    "ax.plot(new_times, tb_r_mean, \"k-\", alpha=0.5)\n",
    "ax.scatter(time_r, tb_r, c=\"silver\", marker=\"x\")\n",
    "ax.fill_between(new_times, tb_r_mean + tb_r_var, tb_r_mean - tb_r_var, color=\"silver\", alpha=0.3)\n",
    "ax.set_title(\"Tumor burden (Responders)\")"
   ]
  },
  {
   "cell_type": "markdown",
   "metadata": {},
   "source": [
    "# Metacluster models\n",
    "This is the hierarchical model for heteroskedascic noise."
   ]
  },
  {
   "cell_type": "code",
   "execution_count": 14,
   "metadata": {},
   "outputs": [],
   "source": [
    "# prepare input (numpy arrays)\n",
    "te_r = te_r_df[\"proportion(y)\"].values\n",
    "\n",
    "# convert to torch tensors\n",
    "torch_te_r = torch.FloatTensor(te_r)"
   ]
  },
  {
   "cell_type": "code",
   "execution_count": 15,
   "metadata": {},
   "outputs": [],
   "source": [
    "# get relative weights for each\n",
    "sizes_r = te_r_df[\"totalcellsinsample(n)\"].values\n",
    "\n",
    "# convert to torch\n",
    "torch_sizes_r = torch.FloatTensor(sizes_r)"
   ]
  },
  {
   "cell_type": "code",
   "execution_count": 33,
   "metadata": {},
   "outputs": [],
   "source": [
    "# initialize models\n",
    "reload(dli_gpr)\n",
    "\n",
    "# gp regression\n",
    "te_r_vanilla = dli_gpr.gpr(torch_time_r, torch_te_r)\n",
    "\n",
    "# modified model\n",
    "te_r_model = dli_gpr.dli_gpr(torch_time_r, torch_te_r, torch_sizes_r)\n",
    "\n",
    "# initialize variables\n",
    "te_r_model.initialize_variables()\n",
    "te_r_vanilla.initialize_variables()"
   ]
  },
  {
   "cell_type": "code",
   "execution_count": 34,
   "metadata": {},
   "outputs": [
    {
     "name": "stderr",
     "output_type": "stream",
     "text": [
      "100%|██████████| 5000/5000 [00:09<00:00, 537.00it/s]\n",
      "100%|██████████| 5000/5000 [00:05<00:00, 978.88it/s] \n"
     ]
    }
   ],
   "source": [
    "for model in [te_r_model, te_r_vanilla]:\n",
    "    pyro.clear_param_store()\n",
    "    model.optimize(n_steps=5000);"
   ]
  },
  {
   "cell_type": "code",
   "execution_count": 35,
   "metadata": {},
   "outputs": [],
   "source": [
    "# compute conditional distribution of response variable\n",
    "te_r_mean, te_r_cov = te_r_model.conditional_distribution(new_y)\n",
    "te_r_vanilla_mean, te_r_vanilla_cov = te_r_vanilla.conditional_distribution(new_y)"
   ]
  },
  {
   "cell_type": "code",
   "execution_count": 36,
   "metadata": {},
   "outputs": [],
   "source": [
    "# convert back to numpy array for plotting\n",
    "te_r_mean, te_r_var = te_r_mean.numpy(), np.diag(te_r_cov.numpy())\n",
    "te_r_vanilla_mean, te_r_vanilla_var = te_r_vanilla_mean.numpy(), np.diag(te_r_vanilla_cov.numpy())"
   ]
  },
  {
   "cell_type": "code",
   "execution_count": 40,
   "metadata": {},
   "outputs": [],
   "source": [
    "# get metacell cluster sizes for plotting\n",
    "plotting_sizes_r = sizes_r/40"
   ]
  },
  {
   "cell_type": "code",
   "execution_count": 42,
   "metadata": {},
   "outputs": [
    {
     "data": {
      "image/png": "[encoded data removed]",
      "text/plain": [
       "<Figure size 648x216 with 4 Axes>"
      ]
     },
     "metadata": {
      "needs_background": "light"
     },
     "output_type": "display_data"
    }
   ],
   "source": [
    "# make plots\n",
    "fig, ax = plt.subplots(1,2, figsize=(9,3), tight_layout=True)\n",
    "\n",
    "# plot metacluster TE for R\n",
    "ax[1].plot(new_times, te_r_mean, \"cornflowerblue\", alpha=0.5)\n",
    "ax[1].scatter(time_r, te_r, c=\"cornflowerblue\", marker=\".\", sizes=plotting_sizes_r)\n",
    "ax[1].fill_between(new_times, te_r_mean + te_r_var, te_r_mean - te_r_var, color=\"cornflowerblue\", alpha=0.3)\n",
    "ax[1].set_title(\"Hierarchical model\")\n",
    "\n",
    "# plot metacluster TE for NR\n",
    "ax[0].plot(new_times, te_r_vanilla_mean, c=\"cornflowerblue\", alpha=0.5)\n",
    "ax[0].scatter(time_r, te_r, c=\"cornflowerblue\", marker=\".\", sizes=plotting_sizes_r)\n",
    "ax[0].fill_between(new_times, \n",
    "                   te_r_vanilla_mean + te_r_vanilla_var, \n",
    "                   te_r_vanilla_mean - te_r_vanilla_var, color=\"cornflowerblue\", alpha=0.3)\n",
    "ax[0].set_title(\"Vanilla GP regression\")\n",
    "\n",
    "# add duplicated axis to plot tumor burden for R\n",
    "for ix in range(2):\n",
    "    ax2 = ax[ix].twinx()\n",
    "    ax2.plot(new_times, tb_r_mean, \"k-\", alpha=0.5)\n",
    "    ax2.scatter(time_r, tb_r, c=\"k\", marker=\"x\", alpha=0.5)\n",
    "    ax2.fill_between(new_times, tb_r_mean + tb_r_var, tb_r_mean - tb_r_var, color=\"silver\", alpha=0.3)\n",
    "    if ix==1:\n",
    "        ax2.set_ylabel(\"tumor burden\")\n",
    "    if ix==0:\n",
    "        ax[ix].set_ylabel(\"metacluster\\nproportion\")\n",
    "        \n",
    "# save figure\n",
    "# plt.savefig(\"extended3g.pdf\")"
   ]
  }
 ],
 "metadata": {
  "kernelspec": {
   "display_name": "Python 3",
   "language": "python",
   "name": "python3"
  },
  "language_info": {
   "codemirror_mode": {
    "name": "ipython",
    "version": 3
   },
   "file_extension": ".py",
   "mimetype": "text/x-python",
   "name": "python",
   "nbconvert_exporter": "python",
   "pygments_lexer": "ipython3",
   "version": "3.7.4"
  },
  "toc": {
   "base_numbering": 1,
   "nav_menu": {},
   "number_sections": true,
   "sideBar": true,
   "skip_h1_title": false,
   "title_cell": "Table of Contents",
   "title_sidebar": "Contents",
   "toc_cell": false,
   "toc_position": {},
   "toc_section_display": true,
   "toc_window_display": false
  }
 },
 "nbformat": 4,
 "nbformat_minor": 2
}
