{
 "cells": [
  {
   "cell_type": "markdown",
   "metadata": {},
   "source": [
    "# Figure 2f\n",
    "This notebook reproduces the GP regression plots provided in Figure 2. The code is kind of verbose, but I wanted to be sort of explicit about what I'm doing to generate these figures."
   ]
  },
  {
   "cell_type": "code",
   "execution_count": 1,
   "metadata": {},
   "outputs": [],
   "source": [
    "import torch\n",
    "import pyro\n",
    "import pandas as pd\n",
    "import numpy as np\n",
    "import matplotlib.pyplot as plt\n",
    "import os\n",
    "\n",
    "# import GP regression code\n",
    "from importlib import reload\n",
    "import dli_gpr\n",
    "\n",
    "%matplotlib inline"
   ]
  },
  {
   "cell_type": "markdown",
   "metadata": {},
   "source": [
    "# Input data\n",
    "Read input text files (provided in data directory of this repository)."
   ]
  },
  {
   "cell_type": "code",
   "execution_count": 2,
   "metadata": {},
   "outputs": [],
   "source": [
    "data_dir = \"data\"\n",
    "\n",
    "# data files\n",
    "pe1_r_fname = os.path.join(data_dir, \"v3_MetaclusterPE1_R_gprinput.txt\")\n",
    "pe1_nr_fname = os.path.join(data_dir, \"v3_MetaclusterPE1_NR_gprinput.txt\")\n",
    "pe2_r_fname = os.path.join(data_dir, \"v3_MetaclusterPE2_R_gprinput.txt\")\n",
    "pe2_nr_fname = os.path.join(data_dir, \"v3_MetaclusterPE2_NR_gprinput.txt\")\n",
    "te_r_fname = os.path.join(data_dir, \"v3_MetaclusterTE_R_gprinput.txt\")\n",
    "te_nr_fname = os.path.join(data_dir, \"v3_MetaclusterTE_NR_gprinput.txt\")\n",
    "\n",
    "# read these with pandas (tsv)\n",
    "pe1_r_df = pd.read_csv(pe1_r_fname, sep=\"\\t\")\n",
    "pe1_nr_df = pd.read_csv(pe1_nr_fname, sep=\"\\t\")\n",
    "pe2_r_df = pd.read_csv(pe2_r_fname, sep=\"\\t\")\n",
    "pe2_nr_df = pd.read_csv(pe2_nr_fname, sep=\"\\t\")\n",
    "te_r_df = pd.read_csv(te_r_fname, sep=\"\\t\")\n",
    "te_nr_df = pd.read_csv(te_nr_fname, sep=\"\\t\")\n",
    "\n",
    "# get rid of NaNs\n",
    "pe1_r_df.dropna(inplace=True)\n",
    "pe1_nr_df.dropna(inplace=True)\n",
    "pe2_r_df.dropna(inplace=True)\n",
    "pe2_nr_df.dropna(inplace=True)\n",
    "te_r_df.dropna(inplace=True)\n",
    "te_nr_df.dropna(inplace=True)"
   ]
  },
  {
   "cell_type": "code",
   "execution_count": 3,
   "metadata": {},
   "outputs": [
    {
     "data": {
      "text/html": [
       "<div>\n",
       "<style scoped>\n",
       "    .dataframe tbody tr th:only-of-type {\n",
       "        vertical-align: middle;\n",
       "    }\n",
       "\n",
       "    .dataframe tbody tr th {\n",
       "        vertical-align: top;\n",
       "    }\n",
       "\n",
       "    .dataframe thead th {\n",
       "        text-align: right;\n",
       "    }\n",
       "</style>\n",
       "<table border=\"1\" class=\"dataframe\">\n",
       "  <thead>\n",
       "    <tr style=\"text-align: right;\">\n",
       "      <th></th>\n",
       "      <th>time</th>\n",
       "      <th>proportion(y)</th>\n",
       "      <th>numcellsincluster(x)</th>\n",
       "      <th>totalcellsinsample(n)</th>\n",
       "      <th>patientID</th>\n",
       "      <th>sampleID</th>\n",
       "      <th>tumorburden</th>\n",
       "    </tr>\n",
       "  </thead>\n",
       "  <tbody>\n",
       "    <tr>\n",
       "      <th>0</th>\n",
       "      <td>-30</td>\n",
       "      <td>0.0000</td>\n",
       "      <td>1</td>\n",
       "      <td>329</td>\n",
       "      <td>DFCI-5310</td>\n",
       "      <td>1</td>\n",
       "      <td>94.0</td>\n",
       "    </tr>\n",
       "    <tr>\n",
       "      <th>1</th>\n",
       "      <td>180</td>\n",
       "      <td>0.2031</td>\n",
       "      <td>21</td>\n",
       "      <td>1310</td>\n",
       "      <td>DFCI-5310</td>\n",
       "      <td>2</td>\n",
       "      <td>0.0</td>\n",
       "    </tr>\n",
       "    <tr>\n",
       "      <th>2</th>\n",
       "      <td>-42</td>\n",
       "      <td>0.0000</td>\n",
       "      <td>127</td>\n",
       "      <td>2834</td>\n",
       "      <td>DFCI-5309</td>\n",
       "      <td>5</td>\n",
       "      <td>11.0</td>\n",
       "    </tr>\n",
       "    <tr>\n",
       "      <th>3</th>\n",
       "      <td>90</td>\n",
       "      <td>0.0005</td>\n",
       "      <td>88</td>\n",
       "      <td>2030</td>\n",
       "      <td>DFCI-5309</td>\n",
       "      <td>6</td>\n",
       "      <td>0.0</td>\n",
       "    </tr>\n",
       "    <tr>\n",
       "      <th>4</th>\n",
       "      <td>0</td>\n",
       "      <td>0.0437</td>\n",
       "      <td>7</td>\n",
       "      <td>3184</td>\n",
       "      <td>DFCI-5311</td>\n",
       "      <td>9</td>\n",
       "      <td>44.0</td>\n",
       "    </tr>\n",
       "    <tr>\n",
       "      <th>6</th>\n",
       "      <td>90</td>\n",
       "      <td>0.0125</td>\n",
       "      <td>32</td>\n",
       "      <td>3762</td>\n",
       "      <td>DFCI-5311</td>\n",
       "      <td>11</td>\n",
       "      <td>0.0</td>\n",
       "    </tr>\n",
       "    <tr>\n",
       "      <th>7</th>\n",
       "      <td>270</td>\n",
       "      <td>0.0926</td>\n",
       "      <td>24</td>\n",
       "      <td>8662</td>\n",
       "      <td>DFCI-5311</td>\n",
       "      <td>12</td>\n",
       "      <td>0.0</td>\n",
       "    </tr>\n",
       "    <tr>\n",
       "      <th>8</th>\n",
       "      <td>0</td>\n",
       "      <td>0.0022</td>\n",
       "      <td>116</td>\n",
       "      <td>1358</td>\n",
       "      <td>DFCI-5312</td>\n",
       "      <td>21</td>\n",
       "      <td>38.0</td>\n",
       "    </tr>\n",
       "    <tr>\n",
       "      <th>9</th>\n",
       "      <td>270</td>\n",
       "      <td>0.0769</td>\n",
       "      <td>1</td>\n",
       "      <td>13</td>\n",
       "      <td>DFCI-5312</td>\n",
       "      <td>22</td>\n",
       "      <td>0.0</td>\n",
       "    </tr>\n",
       "    <tr>\n",
       "      <th>10</th>\n",
       "      <td>-5</td>\n",
       "      <td>0.0264</td>\n",
       "      <td>10</td>\n",
       "      <td>1174</td>\n",
       "      <td>DFCI-5317</td>\n",
       "      <td>23</td>\n",
       "      <td>80.0</td>\n",
       "    </tr>\n",
       "    <tr>\n",
       "      <th>11</th>\n",
       "      <td>345</td>\n",
       "      <td>0.1210</td>\n",
       "      <td>5</td>\n",
       "      <td>4390</td>\n",
       "      <td>DFCI-5317</td>\n",
       "      <td>24</td>\n",
       "      <td>0.0</td>\n",
       "    </tr>\n",
       "    <tr>\n",
       "      <th>12</th>\n",
       "      <td>-30</td>\n",
       "      <td>0.0160</td>\n",
       "      <td>5</td>\n",
       "      <td>1566</td>\n",
       "      <td>DFCI-5314</td>\n",
       "      <td>25</td>\n",
       "      <td>94.0</td>\n",
       "    </tr>\n",
       "    <tr>\n",
       "      <th>13</th>\n",
       "      <td>1095</td>\n",
       "      <td>0.0944</td>\n",
       "      <td>38</td>\n",
       "      <td>1853</td>\n",
       "      <td>DFCI-5314</td>\n",
       "      <td>26</td>\n",
       "      <td>0.0</td>\n",
       "    </tr>\n",
       "    <tr>\n",
       "      <th>14</th>\n",
       "      <td>-416</td>\n",
       "      <td>0.0111</td>\n",
       "      <td>4</td>\n",
       "      <td>995</td>\n",
       "      <td>DFCI-5311</td>\n",
       "      <td>29</td>\n",
       "      <td>0.0</td>\n",
       "    </tr>\n",
       "    <tr>\n",
       "      <th>15</th>\n",
       "      <td>-90</td>\n",
       "      <td>0.0071</td>\n",
       "      <td>52</td>\n",
       "      <td>1544</td>\n",
       "      <td>DFCI-5311</td>\n",
       "      <td>30</td>\n",
       "      <td>16.0</td>\n",
       "    </tr>\n",
       "    <tr>\n",
       "      <th>16</th>\n",
       "      <td>-152</td>\n",
       "      <td>0.0076</td>\n",
       "      <td>65</td>\n",
       "      <td>1447</td>\n",
       "      <td>DFCI-5314</td>\n",
       "      <td>31</td>\n",
       "      <td>78.0</td>\n",
       "    </tr>\n",
       "    <tr>\n",
       "      <th>17</th>\n",
       "      <td>29</td>\n",
       "      <td>0.0312</td>\n",
       "      <td>4</td>\n",
       "      <td>1216</td>\n",
       "      <td>DFCI-5314</td>\n",
       "      <td>32</td>\n",
       "      <td>98.0</td>\n",
       "    </tr>\n",
       "    <tr>\n",
       "      <th>18</th>\n",
       "      <td>-416</td>\n",
       "      <td>0.0000</td>\n",
       "      <td>4</td>\n",
       "      <td>731</td>\n",
       "      <td>DFCI-5317</td>\n",
       "      <td>38</td>\n",
       "      <td>0.0</td>\n",
       "    </tr>\n",
       "    <tr>\n",
       "      <th>19</th>\n",
       "      <td>-50</td>\n",
       "      <td>0.0324</td>\n",
       "      <td>4</td>\n",
       "      <td>1051</td>\n",
       "      <td>DFCI-5317</td>\n",
       "      <td>39</td>\n",
       "      <td>80.0</td>\n",
       "    </tr>\n",
       "    <tr>\n",
       "      <th>20</th>\n",
       "      <td>-416</td>\n",
       "      <td>0.0119</td>\n",
       "      <td>68</td>\n",
       "      <td>1430</td>\n",
       "      <td>DFCI-5309</td>\n",
       "      <td>40</td>\n",
       "      <td>0.0</td>\n",
       "    </tr>\n",
       "  </tbody>\n",
       "</table>\n",
       "</div>"
      ],
      "text/plain": [
       "    time  proportion(y)  numcellsincluster(x)  totalcellsinsample(n)  \\\n",
       "0    -30         0.0000                     1                    329   \n",
       "1    180         0.2031                    21                   1310   \n",
       "2    -42         0.0000                   127                   2834   \n",
       "3     90         0.0005                    88                   2030   \n",
       "4      0         0.0437                     7                   3184   \n",
       "6     90         0.0125                    32                   3762   \n",
       "7    270         0.0926                    24                   8662   \n",
       "8      0         0.0022                   116                   1358   \n",
       "9    270         0.0769                     1                     13   \n",
       "10    -5         0.0264                    10                   1174   \n",
       "11   345         0.1210                     5                   4390   \n",
       "12   -30         0.0160                     5                   1566   \n",
       "13  1095         0.0944                    38                   1853   \n",
       "14  -416         0.0111                     4                    995   \n",
       "15   -90         0.0071                    52                   1544   \n",
       "16  -152         0.0076                    65                   1447   \n",
       "17    29         0.0312                     4                   1216   \n",
       "18  -416         0.0000                     4                    731   \n",
       "19   -50         0.0324                     4                   1051   \n",
       "20  -416         0.0119                    68                   1430   \n",
       "\n",
       "    patientID  sampleID  tumorburden  \n",
       "0   DFCI-5310         1         94.0  \n",
       "1   DFCI-5310         2          0.0  \n",
       "2   DFCI-5309         5         11.0  \n",
       "3   DFCI-5309         6          0.0  \n",
       "4   DFCI-5311         9         44.0  \n",
       "6   DFCI-5311        11          0.0  \n",
       "7   DFCI-5311        12          0.0  \n",
       "8   DFCI-5312        21         38.0  \n",
       "9   DFCI-5312        22          0.0  \n",
       "10  DFCI-5317        23         80.0  \n",
       "11  DFCI-5317        24          0.0  \n",
       "12  DFCI-5314        25         94.0  \n",
       "13  DFCI-5314        26          0.0  \n",
       "14  DFCI-5311        29          0.0  \n",
       "15  DFCI-5311        30         16.0  \n",
       "16  DFCI-5314        31         78.0  \n",
       "17  DFCI-5314        32         98.0  \n",
       "18  DFCI-5317        38          0.0  \n",
       "19  DFCI-5317        39         80.0  \n",
       "20  DFCI-5309        40          0.0  "
      ]
     },
     "execution_count": 3,
     "metadata": {},
     "output_type": "execute_result"
    }
   ],
   "source": [
    "# check to make sure looks ok\n",
    "pe1_r_df"
   ]
  },
  {
   "cell_type": "markdown",
   "metadata": {},
   "source": [
    "# Prepare GPR input for tumor burden\n",
    "This is a regular GPR model. We use the same bandwidth for all models, use SE of the data to initialize the variance."
   ]
  },
  {
   "cell_type": "code",
   "execution_count": 66,
   "metadata": {},
   "outputs": [
    {
     "data": {
      "text/plain": [
       "<matplotlib.legend.Legend at 0x12b05b350>"
      ]
     },
     "execution_count": 66,
     "metadata": {},
     "output_type": "execute_result"
    },
    {
     "data": {
      "image/png": "[encoded data removed]",
      "text/plain": [
       "<Figure size 432x288 with 1 Axes>"
      ]
     },
     "metadata": {
      "needs_background": "light"
     },
     "output_type": "display_data"
    }
   ],
   "source": [
    "# time input\n",
    "time_r = pe2_r_df[\"time\"].values\n",
    "tb_r = pe2_r_df[\"tumorburden\"].values/100.\n",
    "time_nr = pe2_nr_df[\"time\"].values\n",
    "tb_nr = pe2_nr_df[\"tumorburden\"].values/100.\n",
    "\n",
    "# plot stuff to make sure it looks ok\n",
    "plt.scatter(time_r, tb_r, c=\"cornflowerblue\", label=\"R\")\n",
    "plt.scatter(time_nr, tb_nr, c=\"orange\", label=\"NR\")\n",
    "plt.title(\"Tumor burden\")\n",
    "plt.legend()"
   ]
  },
  {
   "cell_type": "code",
   "execution_count": 254,
   "metadata": {},
   "outputs": [],
   "source": [
    "reload(dli_gpr)\n",
    "# convert everything to torch tensors\n",
    "torch_time_r = torch.FloatTensor(time_r)\n",
    "torch_time_nr = torch.FloatTensor(time_nr)\n",
    "torch_tb_r = torch.FloatTensor(tb_r)\n",
    "torch_tb_nr = torch.FloatTensor(tb_nr)\n",
    "\n",
    "# initialize models\n",
    "tb_r_model = dli_gpr.gpr(torch_time_r, torch_tb_r)\n",
    "tb_nr_model = dli_gpr.gpr(torch_time_nr, torch_tb_nr)\n",
    "\n",
    "# have to initialize kernel\n",
    "tb_r_model.initialize_variables()\n",
    "tb_nr_model.initialize_variables()"
   ]
  },
  {
   "cell_type": "code",
   "execution_count": 255,
   "metadata": {},
   "outputs": [
    {
     "name": "stderr",
     "output_type": "stream",
     "text": [
      "100%|██████████| 5000/5000 [00:04<00:00, 1031.41it/s]\n",
      "100%|██████████| 5000/5000 [00:04<00:00, 1048.24it/s]\n"
     ]
    }
   ],
   "source": [
    "# optimize sigma by max likelihood\n",
    "pyro.clear_param_store()\n",
    "tb_r_losses = tb_r_model.optimize(n_steps=5000)\n",
    "\n",
    "pyro.clear_param_store()\n",
    "tb_nr_losses = tb_nr_model.optimize(n_steps=5000)"
   ]
  },
  {
   "cell_type": "code",
   "execution_count": 239,
   "metadata": {},
   "outputs": [
    {
     "data": {
      "text/plain": [
       "[<matplotlib.lines.Line2D at 0x12c57ac90>]"
      ]
     },
     "execution_count": 239,
     "metadata": {},
     "output_type": "execute_result"
    },
    {
     "data": {
      "image/png": "[encoded data removed]",
      "text/plain": [
       "<Figure size 432x288 with 1 Axes>"
      ]
     },
     "metadata": {
      "needs_background": "light"
     },
     "output_type": "display_data"
    }
   ],
   "source": [
    "# make sure looks like it is actually converging\n",
    "plt.plot(tb_nr_losses)"
   ]
  },
  {
   "cell_type": "code",
   "execution_count": 256,
   "metadata": {},
   "outputs": [],
   "source": [
    "# get predictions for new points...\n",
    "# new input time points\n",
    "new_y = torch.FloatTensor(np.linspace(-600, 1200, 100))\n",
    "\n",
    "# compute conditional distribution of response variable\n",
    "tb_r_mean, tb_r_cov = tb_r_model.conditional_distribution(new_y)\n",
    "tb_nr_mean, tb_nr_cov = tb_nr_model.conditional_distribution(new_y)"
   ]
  },
  {
   "cell_type": "code",
   "execution_count": 257,
   "metadata": {},
   "outputs": [],
   "source": [
    "# prepare values for plotting\n",
    "\n",
    "# time points as numpy array\n",
    "new_times = new_y.numpy()\n",
    "\n",
    "# means\n",
    "tb_r_mean = tb_r_mean.numpy()\n",
    "tb_nr_mean = tb_nr_mean.numpy()\n",
    "\n",
    "# variance\n",
    "tb_r_var = torch.diag(tb_r_cov).numpy()\n",
    "tb_nr_var = torch.diag(tb_nr_cov).numpy()"
   ]
  },
  {
   "cell_type": "code",
   "execution_count": 258,
   "metadata": {},
   "outputs": [
    {
     "data": {
      "text/plain": [
       "Text(0.5, 1.0, 'Tumor burden\\nNR')"
      ]
     },
     "execution_count": 258,
     "metadata": {},
     "output_type": "execute_result"
    },
    {
     "data": {
      "image/png": "[encoded data removed]",
      "text/plain": [
       "<Figure size 504x216 with 2 Axes>"
      ]
     },
     "metadata": {
      "needs_background": "light"
     },
     "output_type": "display_data"
    }
   ],
   "source": [
    "# make plots\n",
    "fig, ax = plt.subplots(1,2, figsize=(7,3), tight_layout=True)\n",
    "\n",
    "# plot tumor burden for R\n",
    "ax[0].plot(new_times, tb_r_mean, \"k-\", alpha=0.5)\n",
    "ax[0].scatter(time_r, tb_r, c=\"silver\", marker=\"x\")\n",
    "ax[0].fill_between(new_times, tb_r_mean + tb_r_var, tb_r_mean - tb_r_var, color=\"silver\", alpha=0.3)\n",
    "ax[0].set_title(\"Tumor burden\\nR\")\n",
    "\n",
    "# plot tumor burden for NR\n",
    "ax[1].plot(new_times, tb_nr_mean, \"k-\", alpha=0.5)\n",
    "ax[1].scatter(time_nr, tb_nr, c=\"silver\", marker=\"x\")\n",
    "ax[1].fill_between(new_times, tb_nr_mean + tb_nr_var, tb_nr_mean - tb_nr_var, color=\"silver\", alpha=0.3)\n",
    "ax[1].set_title(\"Tumor burden\\nNR\")"
   ]
  },
  {
   "cell_type": "markdown",
   "metadata": {},
   "source": [
    "# Metacluster models\n",
    "This is the hierarchical model for heteroskedascic noise."
   ]
  },
  {
   "cell_type": "code",
   "execution_count": 247,
   "metadata": {},
   "outputs": [],
   "source": [
    "# prepare input (numpy arrays)\n",
    "te_r = te_r_df[\"proportion(y)\"].values\n",
    "pe1_r = pe1_r_df[\"proportion(y)\"].values\n",
    "pe2_r = pe2_r_df[\"proportion(y)\"].values\n",
    "te_nr = te_nr_df[\"proportion(y)\"].values\n",
    "pe1_nr = pe1_nr_df[\"proportion(y)\"].values\n",
    "pe2_nr = pe2_nr_df[\"proportion(y)\"].values\n",
    "\n",
    "# convert to torch tensors\n",
    "torch_te_r = torch.FloatTensor(te_r)\n",
    "torch_pe1_r = torch.FloatTensor(pe1_r)\n",
    "torch_pe2_r = torch.FloatTensor(pe2_r)\n",
    "torch_te_nr = torch.FloatTensor(te_nr)\n",
    "torch_pe1_nr = torch.FloatTensor(pe1_nr)\n",
    "torch_pe2_nr = torch.FloatTensor(pe2_nr)"
   ]
  },
  {
   "cell_type": "code",
   "execution_count": 266,
   "metadata": {},
   "outputs": [
    {
     "name": "stdout",
     "output_type": "stream",
     "text": [
      "tensor(0.0238)\n",
      "tensor(0.1543)\n",
      "0.15429827570915222\n"
     ]
    }
   ],
   "source": [
    "# get empirical variance for all metaclusters\n",
    "var = torch.var(torch.cat([torch_te_r, torch_pe1_r, torch_pe2_r, torch_te_nr, torch_pe1_nr, torch_pe2_nr]))\n",
    "print(var)\n",
    "print(var**0.5)\n",
    "\n",
    "sc = (var**0.5).item()\n",
    "print(sc)"
   ]
  },
  {
   "cell_type": "code",
   "execution_count": 267,
   "metadata": {},
   "outputs": [],
   "source": [
    "# get relative weights for each\n",
    "sizes_r = te_r_df[\"totalcellsinsample(n)\"].values\n",
    "sizes_nr = te_nr_df[\"totalcellsinsample(n)\"].values\n",
    "\n",
    "# convert to torch\n",
    "torch_sizes_r = torch.FloatTensor(sizes_r)\n",
    "torch_sizes_nr = torch.FloatTensor(sizes_nr)"
   ]
  },
  {
   "cell_type": "code",
   "execution_count": 292,
   "metadata": {},
   "outputs": [],
   "source": [
    "# initialize models\n",
    "reload(dli_gpr)\n",
    "te_r_model = dli_gpr.dli_gpr(torch_time_r, torch_te_r, torch_sizes_r)\n",
    "pe1_r_model = dli_gpr.dli_gpr(torch_time_r, torch_pe1_r, torch_sizes_r)\n",
    "pe2_r_model = dli_gpr.dli_gpr(torch_time_r, torch_pe2_r, torch_sizes_r)\n",
    "te_nr_model = dli_gpr.dli_gpr(torch_time_nr, torch_te_nr, torch_sizes_nr)\n",
    "pe1_nr_model = dli_gpr.dli_gpr(torch_time_nr, torch_pe1_nr, torch_sizes_nr)\n",
    "pe2_nr_model = dli_gpr.dli_gpr(torch_time_nr, torch_pe2_nr, torch_sizes_nr)\n",
    "\n",
    "# initialize variables\n",
    "te_r_model.initialize_variables()\n",
    "pe1_r_model.initialize_variables()\n",
    "pe2_r_model.initialize_variables()\n",
    "te_nr_model.initialize_variables()\n",
    "pe1_nr_model.initialize_variables()\n",
    "pe2_nr_model.initialize_variables()"
   ]
  },
  {
   "cell_type": "code",
   "execution_count": 297,
   "metadata": {},
   "outputs": [
    {
     "name": "stderr",
     "output_type": "stream",
     "text": [
      "100%|██████████| 2000/2000 [00:03<00:00, 534.64it/s]\n",
      "100%|██████████| 2000/2000 [00:03<00:00, 532.15it/s]\n",
      "100%|██████████| 2000/2000 [00:03<00:00, 554.27it/s]\n",
      "100%|██████████| 2000/2000 [00:03<00:00, 504.53it/s]\n",
      "100%|██████████| 2000/2000 [00:03<00:00, 524.12it/s]\n",
      "100%|██████████| 2000/2000 [00:03<00:00, 531.06it/s]\n"
     ]
    }
   ],
   "source": [
    "for model in [te_r_model, pe1_r_model, pe2_r_model, te_nr_model, pe1_nr_model, pe2_nr_model]:\n",
    "    pyro.clear_param_store()\n",
    "    model.optimize(n_steps=2000);"
   ]
  },
  {
   "cell_type": "code",
   "execution_count": 298,
   "metadata": {},
   "outputs": [],
   "source": [
    "# compute conditional distribution of response variable\n",
    "te_r_mean, te_r_cov = te_r_model.conditional_distribution(new_y)\n",
    "pe1_r_mean, pe1_r_cov = pe1_r_model.conditional_distribution(new_y)\n",
    "pe2_r_mean, pe2_r_cov = pe2_r_model.conditional_distribution(new_y)\n",
    "\n",
    "te_nr_mean, te_nr_cov = te_nr_model.conditional_distribution(new_y)\n",
    "pe1_nr_mean, pe1_nr_cov = pe1_nr_model.conditional_distribution(new_y)\n",
    "pe2_nr_mean, pe2_nr_cov = pe2_nr_model.conditional_distribution(new_y)"
   ]
  },
  {
   "cell_type": "code",
   "execution_count": 299,
   "metadata": {},
   "outputs": [],
   "source": [
    "# convert back to numpy array for plotting\n",
    "te_r_mean, te_r_var = te_r_mean.numpy(), np.diag(te_r_cov.numpy())\n",
    "pe1_r_mean, pe1_r_var = pe1_r_mean.numpy(), np.diag(pe1_r_cov.numpy())\n",
    "pe2_r_mean, pe2_r_var = pe2_r_mean.numpy(), np.diag(pe2_r_cov.numpy())\n",
    "\n",
    "te_nr_mean, te_nr_var = te_nr_mean.numpy(), np.diag(te_nr_cov.numpy())\n",
    "pe1_nr_mean, pe1_nr_var = pe1_nr_mean.numpy(), np.diag(pe1_nr_cov.numpy())\n",
    "pe2_nr_mean, pe2_nr_var = pe2_nr_mean.numpy(), np.diag(pe2_nr_cov.numpy())"
   ]
  },
  {
   "cell_type": "code",
   "execution_count": 300,
   "metadata": {},
   "outputs": [],
   "source": [
    "# get metacell cluster sizes for plotting\n",
    "plotting_sizes_r = sizes_r/50\n",
    "plotting_sizes_nr = sizes_nr/50"
   ]
  },
  {
   "cell_type": "code",
   "execution_count": 312,
   "metadata": {},
   "outputs": [
    {
     "ename": "ValueError",
     "evalue": "x and y must be the same size",
     "output_type": "error",
     "traceback": [
      "\u001b[0;31m---------------------------------------------------------------------------\u001b[0m",
      "\u001b[0;31mValueError\u001b[0m                                Traceback (most recent call last)",
      "\u001b[0;32m<ipython-input-312-7725f2260068>\u001b[0m in \u001b[0;36m<module>\u001b[0;34m\u001b[0m\n\u001b[1;32m      4\u001b[0m \u001b[0;31m# plot metacluster TE for R\u001b[0m\u001b[0;34m\u001b[0m\u001b[0;34m\u001b[0m\u001b[0;34m\u001b[0m\u001b[0m\n\u001b[1;32m      5\u001b[0m \u001b[0max\u001b[0m\u001b[0;34m[\u001b[0m\u001b[0;36m0\u001b[0m\u001b[0;34m,\u001b[0m\u001b[0;36m0\u001b[0m\u001b[0;34m]\u001b[0m\u001b[0;34m.\u001b[0m\u001b[0mplot\u001b[0m\u001b[0;34m(\u001b[0m\u001b[0mnew_times\u001b[0m\u001b[0;34m,\u001b[0m \u001b[0mte_r_mean\u001b[0m\u001b[0;34m,\u001b[0m \u001b[0;34m\"cornflowerblue\"\u001b[0m\u001b[0;34m,\u001b[0m \u001b[0malpha\u001b[0m\u001b[0;34m=\u001b[0m\u001b[0;36m0.5\u001b[0m\u001b[0;34m)\u001b[0m\u001b[0;34m\u001b[0m\u001b[0;34m\u001b[0m\u001b[0m\n\u001b[0;32m----> 6\u001b[0;31m \u001b[0max\u001b[0m\u001b[0;34m[\u001b[0m\u001b[0;36m0\u001b[0m\u001b[0;34m,\u001b[0m\u001b[0;36m0\u001b[0m\u001b[0;34m]\u001b[0m\u001b[0;34m.\u001b[0m\u001b[0mscatter\u001b[0m\u001b[0;34m(\u001b[0m\u001b[0mtime_r\u001b[0m\u001b[0;34m,\u001b[0m \u001b[0mte_r\u001b[0m\u001b[0;34m,\u001b[0m \u001b[0mc\u001b[0m\u001b[0;34m=\u001b[0m\u001b[0;34m\"cornflowerblue\"\u001b[0m\u001b[0;34m,\u001b[0m \u001b[0mmarker\u001b[0m\u001b[0;34m=\u001b[0m\u001b[0;34m\".\"\u001b[0m\u001b[0;34m,\u001b[0m \u001b[0msizes\u001b[0m\u001b[0;34m=\u001b[0m\u001b[0mplotting_sizes_r\u001b[0m\u001b[0;34m)\u001b[0m\u001b[0;34m\u001b[0m\u001b[0;34m\u001b[0m\u001b[0m\n\u001b[0m\u001b[1;32m      7\u001b[0m \u001b[0max\u001b[0m\u001b[0;34m[\u001b[0m\u001b[0;36m0\u001b[0m\u001b[0;34m,\u001b[0m\u001b[0;36m0\u001b[0m\u001b[0;34m]\u001b[0m\u001b[0;34m.\u001b[0m\u001b[0mfill_between\u001b[0m\u001b[0;34m(\u001b[0m\u001b[0mnew_times\u001b[0m\u001b[0;34m,\u001b[0m \u001b[0mte_r_mean\u001b[0m \u001b[0;34m+\u001b[0m \u001b[0mte_r_var\u001b[0m\u001b[0;34m,\u001b[0m \u001b[0mte_r_mean\u001b[0m \u001b[0;34m-\u001b[0m \u001b[0mte_r_var\u001b[0m\u001b[0;34m,\u001b[0m \u001b[0mcolor\u001b[0m\u001b[0;34m=\u001b[0m\u001b[0;34m\"cornflowerblue\"\u001b[0m\u001b[0;34m,\u001b[0m \u001b[0malpha\u001b[0m\u001b[0;34m=\u001b[0m\u001b[0;36m0.3\u001b[0m\u001b[0;34m)\u001b[0m\u001b[0;34m\u001b[0m\u001b[0;34m\u001b[0m\u001b[0m\n\u001b[1;32m      8\u001b[0m \u001b[0max\u001b[0m\u001b[0;34m[\u001b[0m\u001b[0;36m0\u001b[0m\u001b[0;34m,\u001b[0m\u001b[0;36m0\u001b[0m\u001b[0;34m]\u001b[0m\u001b[0;34m.\u001b[0m\u001b[0mset_title\u001b[0m\u001b[0;34m(\u001b[0m\u001b[0;34m\"TE R\"\u001b[0m\u001b[0;34m)\u001b[0m\u001b[0;34m\u001b[0m\u001b[0;34m\u001b[0m\u001b[0m\n",
      "\u001b[0;32m~/miniconda3/envs/lllvm/lib/python3.7/site-packages/matplotlib/__init__.py\u001b[0m in \u001b[0;36minner\u001b[0;34m(ax, data, *args, **kwargs)\u001b[0m\n\u001b[1;32m   1597\u001b[0m     \u001b[0;32mdef\u001b[0m \u001b[0minner\u001b[0m\u001b[0;34m(\u001b[0m\u001b[0max\u001b[0m\u001b[0;34m,\u001b[0m \u001b[0;34m*\u001b[0m\u001b[0margs\u001b[0m\u001b[0;34m,\u001b[0m \u001b[0mdata\u001b[0m\u001b[0;34m=\u001b[0m\u001b[0;32mNone\u001b[0m\u001b[0;34m,\u001b[0m \u001b[0;34m**\u001b[0m\u001b[0mkwargs\u001b[0m\u001b[0;34m)\u001b[0m\u001b[0;34m:\u001b[0m\u001b[0;34m\u001b[0m\u001b[0;34m\u001b[0m\u001b[0m\n\u001b[1;32m   1598\u001b[0m         \u001b[0;32mif\u001b[0m \u001b[0mdata\u001b[0m \u001b[0;32mis\u001b[0m \u001b[0;32mNone\u001b[0m\u001b[0;34m:\u001b[0m\u001b[0;34m\u001b[0m\u001b[0;34m\u001b[0m\u001b[0m\n\u001b[0;32m-> 1599\u001b[0;31m             \u001b[0;32mreturn\u001b[0m \u001b[0mfunc\u001b[0m\u001b[0;34m(\u001b[0m\u001b[0max\u001b[0m\u001b[0;34m,\u001b[0m \u001b[0;34m*\u001b[0m\u001b[0mmap\u001b[0m\u001b[0;34m(\u001b[0m\u001b[0msanitize_sequence\u001b[0m\u001b[0;34m,\u001b[0m \u001b[0margs\u001b[0m\u001b[0;34m)\u001b[0m\u001b[0;34m,\u001b[0m \u001b[0;34m**\u001b[0m\u001b[0mkwargs\u001b[0m\u001b[0;34m)\u001b[0m\u001b[0;34m\u001b[0m\u001b[0;34m\u001b[0m\u001b[0m\n\u001b[0m\u001b[1;32m   1600\u001b[0m \u001b[0;34m\u001b[0m\u001b[0m\n\u001b[1;32m   1601\u001b[0m         \u001b[0mbound\u001b[0m \u001b[0;34m=\u001b[0m \u001b[0mnew_sig\u001b[0m\u001b[0;34m.\u001b[0m\u001b[0mbind\u001b[0m\u001b[0;34m(\u001b[0m\u001b[0max\u001b[0m\u001b[0;34m,\u001b[0m \u001b[0;34m*\u001b[0m\u001b[0margs\u001b[0m\u001b[0;34m,\u001b[0m \u001b[0;34m**\u001b[0m\u001b[0mkwargs\u001b[0m\u001b[0;34m)\u001b[0m\u001b[0;34m\u001b[0m\u001b[0;34m\u001b[0m\u001b[0m\n",
      "\u001b[0;32m~/miniconda3/envs/lllvm/lib/python3.7/site-packages/matplotlib/axes/_axes.py\u001b[0m in \u001b[0;36mscatter\u001b[0;34m(self, x, y, s, c, marker, cmap, norm, vmin, vmax, alpha, linewidths, verts, edgecolors, plotnonfinite, **kwargs)\u001b[0m\n\u001b[1;32m   4441\u001b[0m         \u001b[0my\u001b[0m \u001b[0;34m=\u001b[0m \u001b[0mnp\u001b[0m\u001b[0;34m.\u001b[0m\u001b[0mma\u001b[0m\u001b[0;34m.\u001b[0m\u001b[0mravel\u001b[0m\u001b[0;34m(\u001b[0m\u001b[0my\u001b[0m\u001b[0;34m)\u001b[0m\u001b[0;34m\u001b[0m\u001b[0;34m\u001b[0m\u001b[0m\n\u001b[1;32m   4442\u001b[0m         \u001b[0;32mif\u001b[0m \u001b[0mx\u001b[0m\u001b[0;34m.\u001b[0m\u001b[0msize\u001b[0m \u001b[0;34m!=\u001b[0m \u001b[0my\u001b[0m\u001b[0;34m.\u001b[0m\u001b[0msize\u001b[0m\u001b[0;34m:\u001b[0m\u001b[0;34m\u001b[0m\u001b[0;34m\u001b[0m\u001b[0m\n\u001b[0;32m-> 4443\u001b[0;31m             \u001b[0;32mraise\u001b[0m \u001b[0mValueError\u001b[0m\u001b[0;34m(\u001b[0m\u001b[0;34m\"x and y must be the same size\"\u001b[0m\u001b[0;34m)\u001b[0m\u001b[0;34m\u001b[0m\u001b[0;34m\u001b[0m\u001b[0m\n\u001b[0m\u001b[1;32m   4444\u001b[0m \u001b[0;34m\u001b[0m\u001b[0m\n\u001b[1;32m   4445\u001b[0m         \u001b[0;32mif\u001b[0m \u001b[0ms\u001b[0m \u001b[0;32mis\u001b[0m \u001b[0;32mNone\u001b[0m\u001b[0;34m:\u001b[0m\u001b[0;34m\u001b[0m\u001b[0;34m\u001b[0m\u001b[0m\n",
      "\u001b[0;31mValueError\u001b[0m: x and y must be the same size"
     ]
    },
    {
     "data": {
      "image/png": "[encoded data removed]",
      "text/plain": [
       "<Figure size 864x360 with 6 Axes>"
      ]
     },
     "metadata": {
      "needs_background": "light"
     },
     "output_type": "display_data"
    }
   ],
   "source": [
    "# make plots\n",
    "fig, ax = plt.subplots(2,3, figsize=(12,5), tight_layout=True)\n",
    "\n",
    "# plot metacluster TE for R\n",
    "ax[0,0].plot(new_times, te_r_mean, \"cornflowerblue\", alpha=0.5)\n",
    "ax[0,0].scatter(time_r, te_r, c=\"cornflowerblue\", marker=\".\", sizes=plotting_sizes_r)\n",
    "ax[0,0].fill_between(new_times, te_r_mean + te_r_var, te_r_mean - te_r_var, color=\"cornflowerblue\", alpha=0.3)\n",
    "ax[0,0].set_title(\"TE R\")\n",
    "\n",
    "# plot metacluster TE for NR\n",
    "ax[1,0].plot(new_times, te_nr_mean, c=\"orange\", alpha=0.5)\n",
    "ax[1,0].scatter(time_nr, te_nr, c=\"orange\", marker=\".\", sizes=plotting_sizes_nr)\n",
    "ax[1,0].fill_between(new_times, te_nr_mean + te_nr_var, te_nr_mean - te_nr_var, color=\"orange\", alpha=0.3)\n",
    "ax[1,0].set_title(\"TE NR\")\n",
    "\n",
    "# plot metacluster PE1 for R\n",
    "ax[0,1].plot(new_times, pe1_r_mean, \"cornflowerblue\", alpha=0.5)\n",
    "ax[0,1].scatter(time_r, pe1_r, c=\"cornflowerblue\", marker=\".\", sizes=plotting_sizes_r)\n",
    "ax[0,1].fill_between(new_times, pe1_r_mean + pe1_r_var, pe1_r_mean - pe1_r_var, color=\"cornflowerblue\", alpha=0.3)\n",
    "ax[0,1].set_title(\"PE1 R\")\n",
    "\n",
    "# plot metacluster PE1 for NR\n",
    "ax[1,1].plot(new_times, pe1_nr_mean, \"orange\", alpha=0.5)\n",
    "ax[1,1].scatter(time_nr, pe1_nr, c=\"orange\", marker=\".\", sizes=plotting_sizes_nr)\n",
    "ax[1,1].fill_between(new_times, pe1_nr_mean + pe1_nr_var, pe1_nr_mean - pe1_nr_var, color=\"orange\", alpha=0.3)\n",
    "ax[1,1].set_title(\"PE1 NR\")\n",
    "\n",
    "# plot metacluster PE1 for R\n",
    "ax[0,2].plot(new_times, pe2_r_mean, \"cornflowerblue\", alpha=0.5)\n",
    "ax[0,2].scatter(time_r, pe2_r, c=\"cornflowerblue\", marker=\".\", sizes=plotting_sizes_r)\n",
    "ax[0,2].fill_between(new_times, pe2_r_mean + pe2_r_var, pe2_r_mean - pe2_r_var, color=\"cornflowerblue\", alpha=0.3)\n",
    "ax[0,2].set_title(\"PE2 R\")\n",
    "\n",
    "# plot metacluster PE1 for NR\n",
    "ax[1,2].plot(new_times, pe2_nr_mean, \"orange\", alpha=0.5)\n",
    "ax[1,2].scatter(time_nr, pe2_nr, c=\"orange\", marker=\".\", sizes=plotting_sizes_nr)\n",
    "ax[1,2].fill_between(new_times, pe2_nr_mean + pe2_nr_var, pe2_nr_mean - pe2_nr_var, color=\"orange\", alpha=0.3)\n",
    "ax[1,2].set_title(\"PE2 NR\")\n",
    "\n",
    "# add duplicated axis to plot tumor burden for R\n",
    "for ix in range(3):\n",
    "    ax2 = ax[0,ix].twinx()\n",
    "    ax2.plot(new_times, tb_r_mean, \"k-\", alpha=0.5)\n",
    "    ax2.scatter(time_r, tb_r, c=\"k\", marker=\"x\", alpha=0.5)\n",
    "    ax2.fill_between(new_times, tb_r_mean + tb_r_var, tb_r_mean - tb_r_var, color=\"silver\", alpha=0.3)\n",
    "    if ix == 0:\n",
    "        ax[0,ix].set_ylim(-0.2, 0.8)\n",
    "    elif ix == 1:\n",
    "        ax[0,ix].set_ylim(-0.1, 0.5)\n",
    "    elif ix == 2:\n",
    "        ax[0,ix].set_ylim(-0.1, 0.75)\n",
    "    ax2.set_ylim(-0.2,1.2)\n",
    "    if ix==2:\n",
    "        ax2.set_ylabel(\"tumor burden\\nR\")\n",
    "    if ix==0:\n",
    "        ax[0,ix].set_ylabel(\"metacluster\\nproportion\")\n",
    "        \n",
    "# add duplicated axis to plot tumor burden for NR\n",
    "for ix in range(3):\n",
    "    ax2 = ax[1,ix].twinx()\n",
    "    ax2.plot(new_times, tb_nr_mean, \"k-\", alpha=0.5)\n",
    "    ax2.scatter(time_nr, tb_nr, c=\"k\", marker=\"x\", alpha=0.5)\n",
    "    ax2.fill_between(new_times, tb_nr_mean + tb_nr_var, tb_nr_mean - tb_nr_var, color=\"silver\", alpha=0.3)\n",
    "    # limit y axis\n",
    "    ax[1,ix].set_ylim(-0.2, 0.8)\n",
    "    ax2.set_ylim(-0.2,1.2)\n",
    "    if ix==2:\n",
    "        ax2.set_ylabel(\"tumor burden\\nR\")\n",
    "    if ix==0:\n",
    "        ax[1,ix].set_ylabel(\"metacluster\\nproportion\")\n",
    "        \n",
    "# save figure\n",
    "#plt.savefig(\"figure2_v2.pdf\")"
   ]
  },
  {
   "cell_type": "markdown",
   "metadata": {},
   "source": [
    "# Cross correlation analysis\n",
    "The simplest thing to do is to a Gaussian process model to tumor burdens under different shifts, then compute the correlation between the estimated mean tumor burden and metacluster proportions. This is done separately for each cluster below."
   ]
  },
  {
   "cell_type": "code",
   "execution_count": 306,
   "metadata": {},
   "outputs": [],
   "source": [
    "# shifts (the bandwidth is 285)\n",
    "shifts = np.arange(-300, 800, 25)"
   ]
  },
  {
   "cell_type": "code",
   "execution_count": 307,
   "metadata": {},
   "outputs": [
    {
     "name": "stderr",
     "output_type": "stream",
     "text": [
      "100%|██████████| 5000/5000 [00:04<00:00, 1015.86it/s]\n",
      "100%|██████████| 5000/5000 [00:04<00:00, 1005.66it/s]\n",
      "100%|██████████| 5000/5000 [00:05<00:00, 943.51it/s] \n",
      "100%|██████████| 5000/5000 [00:05<00:00, 998.43it/s] \n",
      "100%|██████████| 5000/5000 [00:04<00:00, 1005.38it/s]\n",
      "100%|██████████| 5000/5000 [00:04<00:00, 1036.58it/s]\n",
      "100%|██████████| 5000/5000 [00:04<00:00, 1019.84it/s]\n",
      "100%|██████████| 5000/5000 [00:04<00:00, 1034.45it/s]\n",
      "100%|██████████| 5000/5000 [00:04<00:00, 1024.41it/s]\n",
      "100%|██████████| 5000/5000 [00:05<00:00, 987.31it/s] \n",
      "100%|██████████| 5000/5000 [00:05<00:00, 965.97it/s] \n",
      "100%|██████████| 5000/5000 [00:05<00:00, 945.37it/s] \n",
      "100%|██████████| 5000/5000 [00:05<00:00, 916.26it/s] \n",
      "100%|██████████| 5000/5000 [00:05<00:00, 961.45it/s] \n",
      "100%|██████████| 5000/5000 [00:05<00:00, 937.52it/s] \n",
      "100%|██████████| 5000/5000 [00:05<00:00, 925.02it/s] \n",
      "100%|██████████| 5000/5000 [00:05<00:00, 925.16it/s]\n",
      "100%|██████████| 5000/5000 [00:05<00:00, 973.87it/s]\n",
      "100%|██████████| 5000/5000 [00:05<00:00, 958.83it/s] \n",
      "100%|██████████| 5000/5000 [00:05<00:00, 980.10it/s] \n",
      "100%|██████████| 5000/5000 [00:05<00:00, 956.70it/s] \n",
      "100%|██████████| 5000/5000 [00:05<00:00, 963.65it/s] \n",
      "100%|██████████| 5000/5000 [00:05<00:00, 963.92it/s] \n",
      "100%|██████████| 5000/5000 [00:05<00:00, 923.39it/s] \n",
      "100%|██████████| 5000/5000 [00:05<00:00, 983.42it/s] \n",
      "100%|██████████| 5000/5000 [00:05<00:00, 990.47it/s] \n",
      "100%|██████████| 5000/5000 [00:04<00:00, 1044.55it/s]\n",
      "100%|██████████| 5000/5000 [00:04<00:00, 1029.46it/s]\n",
      "100%|██████████| 5000/5000 [00:04<00:00, 1036.92it/s]\n",
      "100%|██████████| 5000/5000 [00:04<00:00, 1026.55it/s]\n",
      "100%|██████████| 5000/5000 [00:05<00:00, 997.03it/s] \n",
      "100%|██████████| 5000/5000 [00:04<00:00, 1039.67it/s]\n",
      "100%|██████████| 5000/5000 [00:04<00:00, 1006.56it/s]\n",
      "100%|██████████| 5000/5000 [00:04<00:00, 1007.39it/s]\n",
      "100%|██████████| 5000/5000 [00:04<00:00, 1007.51it/s]\n",
      "100%|██████████| 5000/5000 [00:04<00:00, 1008.77it/s]\n",
      "100%|██████████| 5000/5000 [00:04<00:00, 1009.77it/s]\n",
      "100%|██████████| 5000/5000 [00:04<00:00, 1019.43it/s]\n",
      "100%|██████████| 5000/5000 [00:04<00:00, 1010.22it/s]\n",
      "100%|██████████| 5000/5000 [00:04<00:00, 1000.37it/s]\n",
      "100%|██████████| 5000/5000 [00:05<00:00, 994.91it/s] \n",
      "100%|██████████| 5000/5000 [00:04<00:00, 1009.15it/s]\n",
      "100%|██████████| 5000/5000 [00:04<00:00, 1022.28it/s]\n",
      "100%|██████████| 5000/5000 [00:04<00:00, 1009.19it/s]\n"
     ]
    }
   ],
   "source": [
    "from scipy.stats import pearsonr\n",
    "\n",
    "# cluster-specific parameters\n",
    "tumor_time = torch_time_r\n",
    "tumor_burden = torch_tb_r\n",
    "metacluster_time = torch_time_r\n",
    "metacluster_proportions = torch_te_r\n",
    "\n",
    "# for storing r, p\n",
    "te_r, te_p = np.zeros(len(shifts)), np.zeros(len(shifts))\n",
    "\n",
    "for ix, shift in enumerate(shifts):\n",
    "    # time input\n",
    "    shifted_time = tumor_time + shift\n",
    "    \n",
    "    # model initialization\n",
    "    model = dli_gpr.gpr(shifted_time, tumor_burden)\n",
    "    model.initialize_variables()\n",
    "    \n",
    "    # fit model\n",
    "    pyro.clear_param_store()\n",
    "    model.optimize(n_steps=5000)\n",
    "    \n",
    "    # get estimates\n",
    "    est_mean, est_cov = model.conditional_distribution(metacluster_time)\n",
    "    \n",
    "    # get R, p\n",
    "    r, p = pearsonr(est_mean.numpy(), metacluster_proportions.numpy())\n",
    "    \n",
    "    # store r and p\n",
    "    te_r[ix] = r\n",
    "    te_p[ix] = p"
   ]
  },
  {
   "cell_type": "code",
   "execution_count": 308,
   "metadata": {},
   "outputs": [
    {
     "name": "stderr",
     "output_type": "stream",
     "text": [
      "100%|██████████| 5000/5000 [00:05<00:00, 902.72it/s] \n",
      "100%|██████████| 5000/5000 [00:05<00:00, 959.43it/s] \n",
      "100%|██████████| 5000/5000 [00:05<00:00, 984.97it/s] \n",
      "100%|██████████| 5000/5000 [00:05<00:00, 987.01it/s] \n",
      "100%|██████████| 5000/5000 [00:04<00:00, 1028.05it/s]\n",
      "100%|██████████| 5000/5000 [00:04<00:00, 1008.70it/s]\n",
      "100%|██████████| 5000/5000 [00:04<00:00, 1022.97it/s]\n",
      "100%|██████████| 5000/5000 [00:04<00:00, 1008.71it/s]\n",
      "100%|██████████| 5000/5000 [00:04<00:00, 1024.72it/s]\n",
      "100%|██████████| 5000/5000 [00:05<00:00, 959.19it/s] \n",
      "100%|██████████| 5000/5000 [00:05<00:00, 977.60it/s] \n",
      "100%|██████████| 5000/5000 [00:05<00:00, 991.18it/s] \n",
      "100%|██████████| 5000/5000 [00:05<00:00, 962.39it/s] \n",
      "100%|██████████| 5000/5000 [00:05<00:00, 979.14it/s] \n",
      "100%|██████████| 5000/5000 [00:05<00:00, 879.67it/s] \n",
      "100%|██████████| 5000/5000 [00:05<00:00, 967.06it/s] \n",
      "100%|██████████| 5000/5000 [00:05<00:00, 929.24it/s] \n",
      "100%|██████████| 5000/5000 [00:05<00:00, 956.66it/s] \n",
      "100%|██████████| 5000/5000 [00:05<00:00, 975.49it/s] \n",
      "100%|██████████| 5000/5000 [00:04<00:00, 1013.95it/s]\n",
      "100%|██████████| 5000/5000 [00:05<00:00, 978.40it/s] \n",
      "100%|██████████| 5000/5000 [00:04<00:00, 1031.31it/s]\n",
      "100%|██████████| 5000/5000 [00:04<00:00, 1030.93it/s]\n",
      "100%|██████████| 5000/5000 [00:04<00:00, 1026.42it/s]\n",
      "100%|██████████| 5000/5000 [00:04<00:00, 1022.95it/s]\n",
      "100%|██████████| 5000/5000 [00:04<00:00, 1034.24it/s]\n",
      "100%|██████████| 5000/5000 [00:04<00:00, 1035.71it/s]\n",
      "100%|██████████| 5000/5000 [00:04<00:00, 1039.03it/s]\n",
      "100%|██████████| 5000/5000 [00:04<00:00, 1030.88it/s]\n",
      "100%|██████████| 5000/5000 [00:05<00:00, 963.06it/s] \n",
      "100%|██████████| 5000/5000 [00:05<00:00, 978.69it/s] \n",
      "100%|██████████| 5000/5000 [00:04<00:00, 1033.06it/s]\n",
      "100%|██████████| 5000/5000 [00:04<00:00, 1008.78it/s]\n",
      "100%|██████████| 5000/5000 [00:05<00:00, 964.44it/s] \n",
      "100%|██████████| 5000/5000 [00:05<00:00, 996.14it/s] \n",
      "100%|██████████| 5000/5000 [00:05<00:00, 967.35it/s] \n",
      "100%|██████████| 5000/5000 [00:04<00:00, 1015.74it/s]\n",
      "100%|██████████| 5000/5000 [00:04<00:00, 1029.76it/s]\n",
      "100%|██████████| 5000/5000 [00:04<00:00, 1024.37it/s]\n",
      "100%|██████████| 5000/5000 [00:04<00:00, 1031.57it/s]\n",
      "100%|██████████| 5000/5000 [00:04<00:00, 1024.87it/s]\n",
      "100%|██████████| 5000/5000 [00:05<00:00, 950.82it/s] \n",
      "100%|██████████| 5000/5000 [00:05<00:00, 960.66it/s] \n",
      "100%|██████████| 5000/5000 [00:04<00:00, 1061.13it/s]\n"
     ]
    }
   ],
   "source": [
    "# cluster-specific parameters (PE1)\n",
    "tumor_time = torch_time_r\n",
    "tumor_burden = torch_tb_r\n",
    "metacluster_time = torch_time_r\n",
    "metacluster_proportions = torch_pe1_r\n",
    "\n",
    "# for storing r, p\n",
    "pe1_r, pe1_p = np.zeros(len(shifts)), np.zeros(len(shifts))\n",
    "\n",
    "for ix, shift in enumerate(shifts):\n",
    "    # time input\n",
    "    shifted_time = tumor_time + shift\n",
    "    \n",
    "    # model initialization\n",
    "    model = dli_gpr.gpr(shifted_time, tumor_burden)\n",
    "    model.initialize_variables()\n",
    "    \n",
    "    # fit model\n",
    "    pyro.clear_param_store()\n",
    "    model.optimize(n_steps=5000)\n",
    "    \n",
    "    # get estimates\n",
    "    est_mean, est_cov = model.conditional_distribution(metacluster_time)\n",
    "    \n",
    "    # get R, p\n",
    "    r, p = pearsonr(est_mean.numpy(), metacluster_proportions.numpy())\n",
    "    \n",
    "    # store r and p\n",
    "    pe1_r[ix] = r\n",
    "    pe1_p[ix] = p"
   ]
  },
  {
   "cell_type": "code",
   "execution_count": 309,
   "metadata": {},
   "outputs": [
    {
     "name": "stderr",
     "output_type": "stream",
     "text": [
      "100%|██████████| 5000/5000 [00:04<00:00, 1043.33it/s]\n",
      "100%|██████████| 5000/5000 [00:04<00:00, 1056.07it/s]\n",
      "100%|██████████| 5000/5000 [00:04<00:00, 1061.59it/s]\n",
      "100%|██████████| 5000/5000 [00:04<00:00, 1063.49it/s]\n",
      "100%|██████████| 5000/5000 [00:04<00:00, 1053.03it/s]\n",
      "100%|██████████| 5000/5000 [00:04<00:00, 1063.08it/s]\n",
      "100%|██████████| 5000/5000 [00:04<00:00, 1067.28it/s]\n",
      "100%|██████████| 5000/5000 [00:04<00:00, 1059.79it/s]\n",
      "100%|██████████| 5000/5000 [00:04<00:00, 1064.29it/s]\n",
      "100%|██████████| 5000/5000 [00:04<00:00, 1059.17it/s]\n",
      "100%|██████████| 5000/5000 [00:04<00:00, 1057.57it/s]\n",
      "100%|██████████| 5000/5000 [00:04<00:00, 1064.53it/s]\n",
      "100%|██████████| 5000/5000 [00:04<00:00, 1065.74it/s]\n",
      "100%|██████████| 5000/5000 [00:05<00:00, 984.69it/s] \n",
      "100%|██████████| 5000/5000 [00:05<00:00, 925.15it/s]\n",
      "100%|██████████| 5000/5000 [00:05<00:00, 972.39it/s] \n",
      "100%|██████████| 5000/5000 [00:05<00:00, 971.27it/s] \n",
      "100%|██████████| 5000/5000 [00:05<00:00, 993.62it/s] \n",
      "100%|██████████| 5000/5000 [00:04<00:00, 1035.32it/s]\n",
      "100%|██████████| 5000/5000 [00:04<00:00, 1016.07it/s]\n",
      "100%|██████████| 5000/5000 [00:04<00:00, 1003.20it/s]\n",
      "100%|██████████| 5000/5000 [00:04<00:00, 1023.08it/s]\n",
      "100%|██████████| 5000/5000 [00:04<00:00, 1009.13it/s]\n",
      "100%|██████████| 5000/5000 [00:05<00:00, 935.72it/s] \n",
      "100%|██████████| 5000/5000 [00:05<00:00, 930.35it/s] \n",
      "100%|██████████| 5000/5000 [00:05<00:00, 969.49it/s] \n",
      "100%|██████████| 5000/5000 [00:05<00:00, 978.04it/s] \n",
      "100%|██████████| 5000/5000 [00:04<00:00, 1003.09it/s]\n",
      "100%|██████████| 5000/5000 [00:05<00:00, 986.66it/s] \n",
      "100%|██████████| 5000/5000 [00:05<00:00, 951.48it/s] \n",
      "100%|██████████| 5000/5000 [00:05<00:00, 932.29it/s] \n",
      "100%|██████████| 5000/5000 [00:05<00:00, 922.63it/s] \n",
      "100%|██████████| 5000/5000 [00:05<00:00, 943.95it/s] \n",
      "100%|██████████| 5000/5000 [00:05<00:00, 913.16it/s] \n",
      "100%|██████████| 5000/5000 [00:05<00:00, 982.97it/s] \n",
      "100%|██████████| 5000/5000 [00:05<00:00, 957.19it/s] \n",
      "100%|██████████| 5000/5000 [00:06<00:00, 796.31it/s] \n",
      "100%|██████████| 5000/5000 [00:05<00:00, 979.21it/s] \n",
      "100%|██████████| 5000/5000 [00:05<00:00, 926.44it/s]\n",
      "100%|██████████| 5000/5000 [00:05<00:00, 957.40it/s] \n",
      "100%|██████████| 5000/5000 [00:04<00:00, 1025.07it/s]\n",
      "100%|██████████| 5000/5000 [00:05<00:00, 930.37it/s] \n",
      "100%|██████████| 5000/5000 [00:04<00:00, 1027.67it/s]\n",
      "100%|██████████| 5000/5000 [00:05<00:00, 970.95it/s] \n"
     ]
    }
   ],
   "source": [
    "# cluster-specific parameters (PE2)\n",
    "tumor_time = torch_time_r\n",
    "tumor_burden = torch_tb_r\n",
    "metacluster_time = torch_time_r\n",
    "metacluster_proportions = torch_pe2_r\n",
    "\n",
    "# for storing r, p\n",
    "pe2_r, pe2_p = np.zeros(len(shifts)), np.zeros(len(shifts))\n",
    "\n",
    "for ix, shift in enumerate(shifts):\n",
    "    # time input\n",
    "    shifted_time = tumor_time + shift\n",
    "    \n",
    "    # model initialization\n",
    "    model = dli_gpr.gpr(shifted_time, tumor_burden)\n",
    "    model.initialize_variables()\n",
    "    \n",
    "    # fit model\n",
    "    pyro.clear_param_store()\n",
    "    model.optimize(n_steps=5000)\n",
    "    \n",
    "    # get estimates\n",
    "    est_mean, est_cov = model.conditional_distribution(metacluster_time)\n",
    "    \n",
    "    # get R, p\n",
    "    r, p = pearsonr(est_mean.numpy(), metacluster_proportions.numpy())\n",
    "    \n",
    "    # store r and p\n",
    "    pe2_r[ix] = r\n",
    "    pe2_p[ix] = p"
   ]
  },
  {
   "cell_type": "code",
   "execution_count": 311,
   "metadata": {},
   "outputs": [
    {
     "data": {
      "image/png": "[encoded data removed]",
      "text/plain": [
       "<Figure size 648x216 with 3 Axes>"
      ]
     },
     "metadata": {
      "needs_background": "light"
     },
     "output_type": "display_data"
    }
   ],
   "source": [
    "fig, axs = plt.subplots(1,3, figsize=(9,3), tight_layout=True)\n",
    "\n",
    "# plot as vertical lines\n",
    "axs[0].vlines(shifts, np.zeros(len(shifts)), te_r, color=\"silver\")\n",
    "\n",
    "# get argmax and plot that\n",
    "ix = np.argmax(te_r)\n",
    "axs[0].vlines(shifts[ix], 0, te_r[ix], color=\"r\")\n",
    "axs[0].set_ylim(-0.75, 0.75)\n",
    "axs[0].set_xlabel(\"shift\")\n",
    "axs[0].set_ylabel(\"correlation\")\n",
    "axs[0].set_title(\"TE R\\nmax = %d days\\np = %.3f\" % (int(shifts[ix]), te_p[ix]))\n",
    "\n",
    "# plot as vertical lines\n",
    "axs[1].vlines(shifts, np.zeros(len(shifts)), pe1_r, color=\"silver\")\n",
    "\n",
    "# get argmax and plot that\n",
    "ix = np.argmax(pe1_r)\n",
    "axs[1].vlines(shifts[ix], 0, pe1_r[ix], color=\"r\")\n",
    "axs[1].set_ylim(-0.75, 0.75)\n",
    "axs[1].set_xlabel(\"shift\")\n",
    "axs[1].set_title(\"PE1 R\\nmax = %d days\\np = %.3f\" % (int(shifts[ix]), pe1_p[ix]))\n",
    "\n",
    "# plot as vertical lines\n",
    "axs[2].vlines(shifts, np.zeros(len(shifts)), pe2_r, color=\"silver\")\n",
    "\n",
    "# get argmax and plot that\n",
    "ix = np.argmax(pe2_r)\n",
    "axs[2].vlines(shifts[ix], 0, pe2_r[ix], color=\"r\")\n",
    "axs[2].set_ylim(-0.75, 0.75)\n",
    "axs[2].set_xlabel(\"shift\")\n",
    "axs[2].set_title(\"PE2 R\\nmax = %d days\\np = %.3f\" % (int(shifts[ix]), pe2_p[ix]))\n",
    "\n",
    "#plt.savefig(\"correlations_v2.pdf\")"
   ]
  },
  {
   "cell_type": "code",
   "execution_count": null,
   "metadata": {},
   "outputs": [],
   "source": []
  }
 ],
 "metadata": {
  "kernelspec": {
   "display_name": "Python 3",
   "language": "python",
   "name": "python3"
  },
  "language_info": {
   "codemirror_mode": {
    "name": "ipython",
    "version": 3
   },
   "file_extension": ".py",
   "mimetype": "text/x-python",
   "name": "python",
   "nbconvert_exporter": "python",
   "pygments_lexer": "ipython3",
   "version": "3.7.4"
  },
  "toc": {
   "base_numbering": 1,
   "nav_menu": {},
   "number_sections": true,
   "sideBar": true,
   "skip_h1_title": false,
   "title_cell": "Table of Contents",
   "title_sidebar": "Contents",
   "toc_cell": false,
   "toc_position": {},
   "toc_section_display": true,
   "toc_window_display": false
  }
 },
 "nbformat": 4,
 "nbformat_minor": 2
}
